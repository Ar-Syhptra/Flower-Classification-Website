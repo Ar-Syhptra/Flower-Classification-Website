{
 "cells": [
  {
   "cell_type": "markdown",
   "id": "911fbcb2",
   "metadata": {
    "id": "kmkyZ75Z1Xgb",
    "papermill": {
     "duration": 0.005259,
     "end_time": "2025-04-13T05:39:58.931961",
     "exception": false,
     "start_time": "2025-04-13T05:39:58.926702",
     "status": "completed"
    },
    "tags": []
   },
   "source": [
    "# Proyek Klasifikasi Bunga"
   ]
  },
  {
   "cell_type": "markdown",
   "id": "639237d4",
   "metadata": {
    "id": "YtkSxsdF5r_2",
    "papermill": {
     "duration": 0.004248,
     "end_time": "2025-04-13T05:39:58.940782",
     "exception": false,
     "start_time": "2025-04-13T05:39:58.936534",
     "status": "completed"
    },
    "tags": []
   },
   "source": [
    "## Import Library"
   ]
  },
  {
   "cell_type": "code",
   "execution_count": 1,
   "id": "2b246582",
   "metadata": {
    "execution": {
     "iopub.execute_input": "2025-04-13T05:39:58.951929Z",
     "iopub.status.busy": "2025-04-13T05:39:58.951435Z",
     "iopub.status.idle": "2025-04-13T05:40:14.562143Z",
     "shell.execute_reply": "2025-04-13T05:40:14.561566Z"
    },
    "id": "7Z-sssZl1LHl",
    "papermill": {
     "duration": 15.617387,
     "end_time": "2025-04-13T05:40:14.563611",
     "exception": false,
     "start_time": "2025-04-13T05:39:58.946224",
     "status": "completed"
    },
    "tags": []
   },
   "outputs": [
    {
     "name": "stderr",
     "output_type": "stream",
     "text": [
      "2025-04-13 05:40:00.552824: E external/local_xla/xla/stream_executor/cuda/cuda_fft.cc:477] Unable to register cuFFT factory: Attempting to register factory for plugin cuFFT when one has already been registered\n",
      "WARNING: All log messages before absl::InitializeLog() is called are written to STDERR\n",
      "E0000 00:00:1744522800.759050      19 cuda_dnn.cc:8310] Unable to register cuDNN factory: Attempting to register factory for plugin cuDNN when one has already been registered\n",
      "E0000 00:00:1744522800.817086      19 cuda_blas.cc:1418] Unable to register cuBLAS factory: Attempting to register factory for plugin cuBLAS when one has already been registered\n"
     ]
    }
   ],
   "source": [
    "import tensorflow as tf\n",
    "from tensorflow.keras import layers, models\n",
    "from tensorflow.keras.preprocessing.image import ImageDataGenerator\n",
    "from tensorflow.keras.callbacks import Callback, EarlyStopping\n",
    "\n",
    "from matplotlib import pyplot as plt\n",
    "\n",
    "import zipfile\n",
    "import pickle"
   ]
  },
  {
   "cell_type": "markdown",
   "id": "ba416c3c",
   "metadata": {
    "id": "ZVM366-Q5ml5",
    "papermill": {
     "duration": 0.004215,
     "end_time": "2025-04-13T05:40:14.572702",
     "exception": false,
     "start_time": "2025-04-13T05:40:14.568487",
     "status": "completed"
    },
    "tags": []
   },
   "source": [
    "## Data Preparation"
   ]
  },
  {
   "cell_type": "markdown",
   "id": "ac0e697b",
   "metadata": {
    "id": "LBz6I4U65wEn",
    "papermill": {
     "duration": 0.004018,
     "end_time": "2025-04-13T05:40:14.581194",
     "exception": false,
     "start_time": "2025-04-13T05:40:14.577176",
     "status": "completed"
    },
    "tags": []
   },
   "source": [
    "### **Moving Data**"
   ]
  },
  {
   "cell_type": "code",
   "execution_count": 2,
   "id": "b1e07139",
   "metadata": {
    "execution": {
     "iopub.execute_input": "2025-04-13T05:40:14.590939Z",
     "iopub.status.busy": "2025-04-13T05:40:14.590296Z",
     "iopub.status.idle": "2025-04-13T05:40:22.527225Z",
     "shell.execute_reply": "2025-04-13T05:40:22.526240Z"
    },
    "papermill": {
     "duration": 7.94335,
     "end_time": "2025-04-13T05:40:22.528719",
     "exception": false,
     "start_time": "2025-04-13T05:40:14.585369",
     "status": "completed"
    },
    "tags": []
   },
   "outputs": [
    {
     "name": "stdout",
     "output_type": "stream",
     "text": [
      "Downloading...\r\n",
      "From (original): https://drive.google.com/uc?id=1X8AiHCFOJ6B8Qw0LA9mzODqUj1S0u7P_\r\n",
      "From (redirected): https://drive.google.com/uc?id=1X8AiHCFOJ6B8Qw0LA9mzODqUj1S0u7P_&confirm=t&uuid=c0b11032-dc86-422c-be63-e38d81ce453f\r\n",
      "To: /kaggle/working/model-datasets-2.zip\r\n",
      "100%|████████████████████████████████████████| 292M/292M [00:03<00:00, 82.5MB/s]\r\n"
     ]
    }
   ],
   "source": [
    "!gdown 1X8AiHCFOJ6B8Qw0LA9mzODqUj1S0u7P_"
   ]
  },
  {
   "cell_type": "code",
   "execution_count": 3,
   "id": "3febc7fd",
   "metadata": {
    "execution": {
     "iopub.execute_input": "2025-04-13T05:40:22.540888Z",
     "iopub.status.busy": "2025-04-13T05:40:22.540647Z",
     "iopub.status.idle": "2025-04-13T05:40:22.672262Z",
     "shell.execute_reply": "2025-04-13T05:40:22.671321Z"
    },
    "id": "duMbHJI26WzG",
    "papermill": {
     "duration": 0.139275,
     "end_time": "2025-04-13T05:40:22.673779",
     "exception": false,
     "start_time": "2025-04-13T05:40:22.534504",
     "status": "completed"
    },
    "tags": []
   },
   "outputs": [],
   "source": [
    "!mkdir model-datasets"
   ]
  },
  {
   "cell_type": "code",
   "execution_count": 4,
   "id": "dc276d35",
   "metadata": {
    "execution": {
     "iopub.execute_input": "2025-04-13T05:40:22.685829Z",
     "iopub.status.busy": "2025-04-13T05:40:22.685533Z",
     "iopub.status.idle": "2025-04-13T05:40:25.020627Z",
     "shell.execute_reply": "2025-04-13T05:40:25.019697Z"
    },
    "id": "9m_SXcDo6ONt",
    "papermill": {
     "duration": 2.343198,
     "end_time": "2025-04-13T05:40:25.022579",
     "exception": false,
     "start_time": "2025-04-13T05:40:22.679381",
     "status": "completed"
    },
    "tags": []
   },
   "outputs": [],
   "source": [
    "zipfile.ZipFile('model-datasets-2.zip', 'r').extractall('model-datasets')"
   ]
  },
  {
   "cell_type": "code",
   "execution_count": 5,
   "id": "342b98ca",
   "metadata": {
    "execution": {
     "iopub.execute_input": "2025-04-13T05:40:25.034304Z",
     "iopub.status.busy": "2025-04-13T05:40:25.034057Z",
     "iopub.status.idle": "2025-04-13T05:40:25.228144Z",
     "shell.execute_reply": "2025-04-13T05:40:25.227250Z"
    },
    "id": "3KYrd_TX6i_9",
    "papermill": {
     "duration": 0.201552,
     "end_time": "2025-04-13T05:40:25.229652",
     "exception": false,
     "start_time": "2025-04-13T05:40:25.028100",
     "status": "completed"
    },
    "tags": []
   },
   "outputs": [],
   "source": [
    "!rm model-datasets-2.zip"
   ]
  },
  {
   "cell_type": "markdown",
   "id": "1ef1138f",
   "metadata": {
    "id": "hMqWKgxU6zo1",
    "papermill": {
     "duration": 0.005174,
     "end_time": "2025-04-13T05:40:25.240590",
     "exception": false,
     "start_time": "2025-04-13T05:40:25.235416",
     "status": "completed"
    },
    "tags": []
   },
   "source": [
    "### **Data Loading**"
   ]
  },
  {
   "cell_type": "code",
   "execution_count": 6,
   "id": "ba135b27",
   "metadata": {
    "execution": {
     "iopub.execute_input": "2025-04-13T05:40:25.252004Z",
     "iopub.status.busy": "2025-04-13T05:40:25.251737Z",
     "iopub.status.idle": "2025-04-13T05:40:25.256138Z",
     "shell.execute_reply": "2025-04-13T05:40:25.255582Z"
    },
    "id": "NlQBGFU664aD",
    "papermill": {
     "duration": 0.011506,
     "end_time": "2025-04-13T05:40:25.257206",
     "exception": false,
     "start_time": "2025-04-13T05:40:25.245700",
     "status": "completed"
    },
    "tags": []
   },
   "outputs": [],
   "source": [
    "train_gen = ImageDataGenerator(\n",
    "    rescale            = 1/255,\n",
    "    rotation_range     = 0.15,\n",
    "    zoom_range         = 0.15,\n",
    "    shear_range        = 0.15,\n",
    "    horizontal_flip    = True,\n",
    "    width_shift_range  = 0.15,\n",
    "    height_shift_range = 0.15\n",
    ")\n",
    "\n",
    "test_gen = ImageDataGenerator(rescale=1/255)"
   ]
  },
  {
   "cell_type": "code",
   "execution_count": 7,
   "id": "2ac466cb",
   "metadata": {
    "execution": {
     "iopub.execute_input": "2025-04-13T05:40:25.268317Z",
     "iopub.status.busy": "2025-04-13T05:40:25.268094Z",
     "iopub.status.idle": "2025-04-13T05:40:25.271259Z",
     "shell.execute_reply": "2025-04-13T05:40:25.270773Z"
    },
    "papermill": {
     "duration": 0.009851,
     "end_time": "2025-04-13T05:40:25.272252",
     "exception": false,
     "start_time": "2025-04-13T05:40:25.262401",
     "status": "completed"
    },
    "tags": []
   },
   "outputs": [],
   "source": [
    "dims = [224, 224]"
   ]
  },
  {
   "cell_type": "code",
   "execution_count": 8,
   "id": "81c61d16",
   "metadata": {
    "execution": {
     "iopub.execute_input": "2025-04-13T05:40:25.283814Z",
     "iopub.status.busy": "2025-04-13T05:40:25.283506Z",
     "iopub.status.idle": "2025-04-13T05:40:25.883562Z",
     "shell.execute_reply": "2025-04-13T05:40:25.882789Z"
    },
    "executionInfo": {
     "elapsed": 195,
     "status": "ok",
     "timestamp": 1744359997741,
     "user": {
      "displayName": "Gibran Daffa",
      "userId": "06228686470629952402"
     },
     "user_tz": -420
    },
    "id": "KpkOO2T68IFp",
    "outputId": "53e99522-ee10-441f-fd80-ed8de068cd49",
    "papermill": {
     "duration": 0.607203,
     "end_time": "2025-04-13T05:40:25.884830",
     "exception": false,
     "start_time": "2025-04-13T05:40:25.277627",
     "status": "completed"
    },
    "tags": []
   },
   "outputs": [
    {
     "name": "stdout",
     "output_type": "stream",
     "text": [
      "Found 11497 images belonging to 37 classes.\n",
      "Found 1440 images belonging to 37 classes.\n",
      "Found 1433 images belonging to 37 classes.\n"
     ]
    }
   ],
   "source": [
    "train_set = train_gen.flow_from_directory(\n",
    "    directory   = 'model-datasets/train',\n",
    "    target_size = dims,\n",
    "    batch_size  = 32,\n",
    ")\n",
    "\n",
    "validation_set = test_gen.flow_from_directory(\n",
    "    directory   = 'model-datasets/validation',\n",
    "    target_size = dims,\n",
    "    batch_size  = 32,\n",
    ")\n",
    "\n",
    "test_set = test_gen.flow_from_directory(\n",
    "    directory   = 'model-datasets/test',\n",
    "    target_size = dims,\n",
    "    batch_size  = 32,\n",
    ")"
   ]
  },
  {
   "cell_type": "markdown",
   "id": "d81530f1",
   "metadata": {
    "id": "9V-KHEHJ9wg0",
    "papermill": {
     "duration": 0.005307,
     "end_time": "2025-04-13T05:40:25.895827",
     "exception": false,
     "start_time": "2025-04-13T05:40:25.890520",
     "status": "completed"
    },
    "tags": []
   },
   "source": [
    "## Modeling"
   ]
  },
  {
   "cell_type": "markdown",
   "id": "ad69cb34",
   "metadata": {
    "id": "q7PE9F9k_fvS",
    "papermill": {
     "duration": 0.005099,
     "end_time": "2025-04-13T05:40:25.906108",
     "exception": false,
     "start_time": "2025-04-13T05:40:25.901009",
     "status": "completed"
    },
    "tags": []
   },
   "source": [
    "### **Model**"
   ]
  },
  {
   "cell_type": "code",
   "execution_count": 9,
   "id": "ab44b96f",
   "metadata": {
    "execution": {
     "iopub.execute_input": "2025-04-13T05:40:25.917842Z",
     "iopub.status.busy": "2025-04-13T05:40:25.917335Z",
     "iopub.status.idle": "2025-04-13T05:40:28.207068Z",
     "shell.execute_reply": "2025-04-13T05:40:28.206442Z"
    },
    "id": "YjZI0yGa_Ele",
    "papermill": {
     "duration": 2.297026,
     "end_time": "2025-04-13T05:40:28.208366",
     "exception": false,
     "start_time": "2025-04-13T05:40:25.911340",
     "status": "completed"
    },
    "tags": []
   },
   "outputs": [
    {
     "name": "stderr",
     "output_type": "stream",
     "text": [
      "I0000 00:00:1744522826.918939      19 gpu_device.cc:2022] Created device /job:localhost/replica:0/task:0/device:GPU:0 with 15513 MB memory:  -> device: 0, name: Tesla P100-PCIE-16GB, pci bus id: 0000:00:04.0, compute capability: 6.0\n"
     ]
    }
   ],
   "source": [
    "model = models.Sequential([\n",
    "    layers.Input(shape=(224, 224, 3)),\n",
    "\n",
    "    layers.Conv2D(32, (3,3), activation='relu', padding='same'),\n",
    "    layers.BatchNormalization(),\n",
    "    layers.Conv2D(32, (3,3), activation='relu', padding='same'),\n",
    "    layers.BatchNormalization(),\n",
    "    layers.MaxPooling2D((2,2)),\n",
    "    layers.Dropout(0.25),\n",
    "\n",
    "    layers.Conv2D(64, (3,3), activation='relu', padding='same'),\n",
    "    layers.BatchNormalization(),\n",
    "    layers.Conv2D(64, (3,3), activation='relu', padding='same'),\n",
    "    layers.BatchNormalization(),\n",
    "    layers.MaxPooling2D((2,2)),\n",
    "    layers.Dropout(0.3),\n",
    "\n",
    "    layers.Conv2D(128, (3,3), activation='relu', padding='same'),\n",
    "    layers.BatchNormalization(),\n",
    "    layers.Conv2D(128, (3,3), activation='relu', padding='same'),\n",
    "    layers.BatchNormalization(),\n",
    "    layers.MaxPooling2D((2,2)),\n",
    "    layers.Dropout(0.35),\n",
    "\n",
    "    layers.Conv2D(256, (3,3), activation='relu', padding='same'),\n",
    "    layers.BatchNormalization(),\n",
    "    layers.MaxPooling2D((2,2)),\n",
    "    layers.Dropout(0.4),\n",
    "\n",
    "    layers.GlobalAveragePooling2D(),\n",
    "    layers.Dense(512, activation='relu'),\n",
    "    layers.BatchNormalization(),\n",
    "    layers.Dropout(0.5),\n",
    "\n",
    "    layers.Dense(37, activation='softmax')\n",
    "])"
   ]
  },
  {
   "cell_type": "code",
   "execution_count": 10,
   "id": "f395cbfc",
   "metadata": {
    "execution": {
     "iopub.execute_input": "2025-04-13T05:40:28.220582Z",
     "iopub.status.busy": "2025-04-13T05:40:28.220322Z",
     "iopub.status.idle": "2025-04-13T05:40:28.248461Z",
     "shell.execute_reply": "2025-04-13T05:40:28.247705Z"
    },
    "executionInfo": {
     "elapsed": 148,
     "status": "ok",
     "timestamp": 1744361610518,
     "user": {
      "displayName": "Gibran Daffa",
      "userId": "06228686470629952402"
     },
     "user_tz": -420
    },
    "id": "uiZgiKGT_MfC",
    "outputId": "e06d025b-7d80-4b51-f7d8-112327040a84",
    "papermill": {
     "duration": 0.035553,
     "end_time": "2025-04-13T05:40:28.249679",
     "exception": false,
     "start_time": "2025-04-13T05:40:28.214126",
     "status": "completed"
    },
    "tags": []
   },
   "outputs": [
    {
     "data": {
      "text/html": [
       "<pre style=\"white-space:pre;overflow-x:auto;line-height:normal;font-family:Menlo,'DejaVu Sans Mono',consolas,'Courier New',monospace\"><span style=\"font-weight: bold\">Model: \"sequential\"</span>\n",
       "</pre>\n"
      ],
      "text/plain": [
       "\u001b[1mModel: \"sequential\"\u001b[0m\n"
      ]
     },
     "metadata": {},
     "output_type": "display_data"
    },
    {
     "data": {
      "text/html": [
       "<pre style=\"white-space:pre;overflow-x:auto;line-height:normal;font-family:Menlo,'DejaVu Sans Mono',consolas,'Courier New',monospace\">┏━━━━━━━━━━━━━━━━━━━━━━━━━━━━━━━━━━━━━━┳━━━━━━━━━━━━━━━━━━━━━━━━━━━━━┳━━━━━━━━━━━━━━━━━┓\n",
       "┃<span style=\"font-weight: bold\"> Layer (type)                         </span>┃<span style=\"font-weight: bold\"> Output Shape                </span>┃<span style=\"font-weight: bold\">         Param # </span>┃\n",
       "┡━━━━━━━━━━━━━━━━━━━━━━━━━━━━━━━━━━━━━━╇━━━━━━━━━━━━━━━━━━━━━━━━━━━━━╇━━━━━━━━━━━━━━━━━┩\n",
       "│ conv2d (<span style=\"color: #0087ff; text-decoration-color: #0087ff\">Conv2D</span>)                      │ (<span style=\"color: #00d7ff; text-decoration-color: #00d7ff\">None</span>, <span style=\"color: #00af00; text-decoration-color: #00af00\">224</span>, <span style=\"color: #00af00; text-decoration-color: #00af00\">224</span>, <span style=\"color: #00af00; text-decoration-color: #00af00\">32</span>)        │             <span style=\"color: #00af00; text-decoration-color: #00af00\">896</span> │\n",
       "├──────────────────────────────────────┼─────────────────────────────┼─────────────────┤\n",
       "│ batch_normalization                  │ (<span style=\"color: #00d7ff; text-decoration-color: #00d7ff\">None</span>, <span style=\"color: #00af00; text-decoration-color: #00af00\">224</span>, <span style=\"color: #00af00; text-decoration-color: #00af00\">224</span>, <span style=\"color: #00af00; text-decoration-color: #00af00\">32</span>)        │             <span style=\"color: #00af00; text-decoration-color: #00af00\">128</span> │\n",
       "│ (<span style=\"color: #0087ff; text-decoration-color: #0087ff\">BatchNormalization</span>)                 │                             │                 │\n",
       "├──────────────────────────────────────┼─────────────────────────────┼─────────────────┤\n",
       "│ conv2d_1 (<span style=\"color: #0087ff; text-decoration-color: #0087ff\">Conv2D</span>)                    │ (<span style=\"color: #00d7ff; text-decoration-color: #00d7ff\">None</span>, <span style=\"color: #00af00; text-decoration-color: #00af00\">224</span>, <span style=\"color: #00af00; text-decoration-color: #00af00\">224</span>, <span style=\"color: #00af00; text-decoration-color: #00af00\">32</span>)        │           <span style=\"color: #00af00; text-decoration-color: #00af00\">9,248</span> │\n",
       "├──────────────────────────────────────┼─────────────────────────────┼─────────────────┤\n",
       "│ batch_normalization_1                │ (<span style=\"color: #00d7ff; text-decoration-color: #00d7ff\">None</span>, <span style=\"color: #00af00; text-decoration-color: #00af00\">224</span>, <span style=\"color: #00af00; text-decoration-color: #00af00\">224</span>, <span style=\"color: #00af00; text-decoration-color: #00af00\">32</span>)        │             <span style=\"color: #00af00; text-decoration-color: #00af00\">128</span> │\n",
       "│ (<span style=\"color: #0087ff; text-decoration-color: #0087ff\">BatchNormalization</span>)                 │                             │                 │\n",
       "├──────────────────────────────────────┼─────────────────────────────┼─────────────────┤\n",
       "│ max_pooling2d (<span style=\"color: #0087ff; text-decoration-color: #0087ff\">MaxPooling2D</span>)         │ (<span style=\"color: #00d7ff; text-decoration-color: #00d7ff\">None</span>, <span style=\"color: #00af00; text-decoration-color: #00af00\">112</span>, <span style=\"color: #00af00; text-decoration-color: #00af00\">112</span>, <span style=\"color: #00af00; text-decoration-color: #00af00\">32</span>)        │               <span style=\"color: #00af00; text-decoration-color: #00af00\">0</span> │\n",
       "├──────────────────────────────────────┼─────────────────────────────┼─────────────────┤\n",
       "│ dropout (<span style=\"color: #0087ff; text-decoration-color: #0087ff\">Dropout</span>)                    │ (<span style=\"color: #00d7ff; text-decoration-color: #00d7ff\">None</span>, <span style=\"color: #00af00; text-decoration-color: #00af00\">112</span>, <span style=\"color: #00af00; text-decoration-color: #00af00\">112</span>, <span style=\"color: #00af00; text-decoration-color: #00af00\">32</span>)        │               <span style=\"color: #00af00; text-decoration-color: #00af00\">0</span> │\n",
       "├──────────────────────────────────────┼─────────────────────────────┼─────────────────┤\n",
       "│ conv2d_2 (<span style=\"color: #0087ff; text-decoration-color: #0087ff\">Conv2D</span>)                    │ (<span style=\"color: #00d7ff; text-decoration-color: #00d7ff\">None</span>, <span style=\"color: #00af00; text-decoration-color: #00af00\">112</span>, <span style=\"color: #00af00; text-decoration-color: #00af00\">112</span>, <span style=\"color: #00af00; text-decoration-color: #00af00\">64</span>)        │          <span style=\"color: #00af00; text-decoration-color: #00af00\">18,496</span> │\n",
       "├──────────────────────────────────────┼─────────────────────────────┼─────────────────┤\n",
       "│ batch_normalization_2                │ (<span style=\"color: #00d7ff; text-decoration-color: #00d7ff\">None</span>, <span style=\"color: #00af00; text-decoration-color: #00af00\">112</span>, <span style=\"color: #00af00; text-decoration-color: #00af00\">112</span>, <span style=\"color: #00af00; text-decoration-color: #00af00\">64</span>)        │             <span style=\"color: #00af00; text-decoration-color: #00af00\">256</span> │\n",
       "│ (<span style=\"color: #0087ff; text-decoration-color: #0087ff\">BatchNormalization</span>)                 │                             │                 │\n",
       "├──────────────────────────────────────┼─────────────────────────────┼─────────────────┤\n",
       "│ conv2d_3 (<span style=\"color: #0087ff; text-decoration-color: #0087ff\">Conv2D</span>)                    │ (<span style=\"color: #00d7ff; text-decoration-color: #00d7ff\">None</span>, <span style=\"color: #00af00; text-decoration-color: #00af00\">112</span>, <span style=\"color: #00af00; text-decoration-color: #00af00\">112</span>, <span style=\"color: #00af00; text-decoration-color: #00af00\">64</span>)        │          <span style=\"color: #00af00; text-decoration-color: #00af00\">36,928</span> │\n",
       "├──────────────────────────────────────┼─────────────────────────────┼─────────────────┤\n",
       "│ batch_normalization_3                │ (<span style=\"color: #00d7ff; text-decoration-color: #00d7ff\">None</span>, <span style=\"color: #00af00; text-decoration-color: #00af00\">112</span>, <span style=\"color: #00af00; text-decoration-color: #00af00\">112</span>, <span style=\"color: #00af00; text-decoration-color: #00af00\">64</span>)        │             <span style=\"color: #00af00; text-decoration-color: #00af00\">256</span> │\n",
       "│ (<span style=\"color: #0087ff; text-decoration-color: #0087ff\">BatchNormalization</span>)                 │                             │                 │\n",
       "├──────────────────────────────────────┼─────────────────────────────┼─────────────────┤\n",
       "│ max_pooling2d_1 (<span style=\"color: #0087ff; text-decoration-color: #0087ff\">MaxPooling2D</span>)       │ (<span style=\"color: #00d7ff; text-decoration-color: #00d7ff\">None</span>, <span style=\"color: #00af00; text-decoration-color: #00af00\">56</span>, <span style=\"color: #00af00; text-decoration-color: #00af00\">56</span>, <span style=\"color: #00af00; text-decoration-color: #00af00\">64</span>)          │               <span style=\"color: #00af00; text-decoration-color: #00af00\">0</span> │\n",
       "├──────────────────────────────────────┼─────────────────────────────┼─────────────────┤\n",
       "│ dropout_1 (<span style=\"color: #0087ff; text-decoration-color: #0087ff\">Dropout</span>)                  │ (<span style=\"color: #00d7ff; text-decoration-color: #00d7ff\">None</span>, <span style=\"color: #00af00; text-decoration-color: #00af00\">56</span>, <span style=\"color: #00af00; text-decoration-color: #00af00\">56</span>, <span style=\"color: #00af00; text-decoration-color: #00af00\">64</span>)          │               <span style=\"color: #00af00; text-decoration-color: #00af00\">0</span> │\n",
       "├──────────────────────────────────────┼─────────────────────────────┼─────────────────┤\n",
       "│ conv2d_4 (<span style=\"color: #0087ff; text-decoration-color: #0087ff\">Conv2D</span>)                    │ (<span style=\"color: #00d7ff; text-decoration-color: #00d7ff\">None</span>, <span style=\"color: #00af00; text-decoration-color: #00af00\">56</span>, <span style=\"color: #00af00; text-decoration-color: #00af00\">56</span>, <span style=\"color: #00af00; text-decoration-color: #00af00\">128</span>)         │          <span style=\"color: #00af00; text-decoration-color: #00af00\">73,856</span> │\n",
       "├──────────────────────────────────────┼─────────────────────────────┼─────────────────┤\n",
       "│ batch_normalization_4                │ (<span style=\"color: #00d7ff; text-decoration-color: #00d7ff\">None</span>, <span style=\"color: #00af00; text-decoration-color: #00af00\">56</span>, <span style=\"color: #00af00; text-decoration-color: #00af00\">56</span>, <span style=\"color: #00af00; text-decoration-color: #00af00\">128</span>)         │             <span style=\"color: #00af00; text-decoration-color: #00af00\">512</span> │\n",
       "│ (<span style=\"color: #0087ff; text-decoration-color: #0087ff\">BatchNormalization</span>)                 │                             │                 │\n",
       "├──────────────────────────────────────┼─────────────────────────────┼─────────────────┤\n",
       "│ conv2d_5 (<span style=\"color: #0087ff; text-decoration-color: #0087ff\">Conv2D</span>)                    │ (<span style=\"color: #00d7ff; text-decoration-color: #00d7ff\">None</span>, <span style=\"color: #00af00; text-decoration-color: #00af00\">56</span>, <span style=\"color: #00af00; text-decoration-color: #00af00\">56</span>, <span style=\"color: #00af00; text-decoration-color: #00af00\">128</span>)         │         <span style=\"color: #00af00; text-decoration-color: #00af00\">147,584</span> │\n",
       "├──────────────────────────────────────┼─────────────────────────────┼─────────────────┤\n",
       "│ batch_normalization_5                │ (<span style=\"color: #00d7ff; text-decoration-color: #00d7ff\">None</span>, <span style=\"color: #00af00; text-decoration-color: #00af00\">56</span>, <span style=\"color: #00af00; text-decoration-color: #00af00\">56</span>, <span style=\"color: #00af00; text-decoration-color: #00af00\">128</span>)         │             <span style=\"color: #00af00; text-decoration-color: #00af00\">512</span> │\n",
       "│ (<span style=\"color: #0087ff; text-decoration-color: #0087ff\">BatchNormalization</span>)                 │                             │                 │\n",
       "├──────────────────────────────────────┼─────────────────────────────┼─────────────────┤\n",
       "│ max_pooling2d_2 (<span style=\"color: #0087ff; text-decoration-color: #0087ff\">MaxPooling2D</span>)       │ (<span style=\"color: #00d7ff; text-decoration-color: #00d7ff\">None</span>, <span style=\"color: #00af00; text-decoration-color: #00af00\">28</span>, <span style=\"color: #00af00; text-decoration-color: #00af00\">28</span>, <span style=\"color: #00af00; text-decoration-color: #00af00\">128</span>)         │               <span style=\"color: #00af00; text-decoration-color: #00af00\">0</span> │\n",
       "├──────────────────────────────────────┼─────────────────────────────┼─────────────────┤\n",
       "│ dropout_2 (<span style=\"color: #0087ff; text-decoration-color: #0087ff\">Dropout</span>)                  │ (<span style=\"color: #00d7ff; text-decoration-color: #00d7ff\">None</span>, <span style=\"color: #00af00; text-decoration-color: #00af00\">28</span>, <span style=\"color: #00af00; text-decoration-color: #00af00\">28</span>, <span style=\"color: #00af00; text-decoration-color: #00af00\">128</span>)         │               <span style=\"color: #00af00; text-decoration-color: #00af00\">0</span> │\n",
       "├──────────────────────────────────────┼─────────────────────────────┼─────────────────┤\n",
       "│ conv2d_6 (<span style=\"color: #0087ff; text-decoration-color: #0087ff\">Conv2D</span>)                    │ (<span style=\"color: #00d7ff; text-decoration-color: #00d7ff\">None</span>, <span style=\"color: #00af00; text-decoration-color: #00af00\">28</span>, <span style=\"color: #00af00; text-decoration-color: #00af00\">28</span>, <span style=\"color: #00af00; text-decoration-color: #00af00\">256</span>)         │         <span style=\"color: #00af00; text-decoration-color: #00af00\">295,168</span> │\n",
       "├──────────────────────────────────────┼─────────────────────────────┼─────────────────┤\n",
       "│ batch_normalization_6                │ (<span style=\"color: #00d7ff; text-decoration-color: #00d7ff\">None</span>, <span style=\"color: #00af00; text-decoration-color: #00af00\">28</span>, <span style=\"color: #00af00; text-decoration-color: #00af00\">28</span>, <span style=\"color: #00af00; text-decoration-color: #00af00\">256</span>)         │           <span style=\"color: #00af00; text-decoration-color: #00af00\">1,024</span> │\n",
       "│ (<span style=\"color: #0087ff; text-decoration-color: #0087ff\">BatchNormalization</span>)                 │                             │                 │\n",
       "├──────────────────────────────────────┼─────────────────────────────┼─────────────────┤\n",
       "│ max_pooling2d_3 (<span style=\"color: #0087ff; text-decoration-color: #0087ff\">MaxPooling2D</span>)       │ (<span style=\"color: #00d7ff; text-decoration-color: #00d7ff\">None</span>, <span style=\"color: #00af00; text-decoration-color: #00af00\">14</span>, <span style=\"color: #00af00; text-decoration-color: #00af00\">14</span>, <span style=\"color: #00af00; text-decoration-color: #00af00\">256</span>)         │               <span style=\"color: #00af00; text-decoration-color: #00af00\">0</span> │\n",
       "├──────────────────────────────────────┼─────────────────────────────┼─────────────────┤\n",
       "│ dropout_3 (<span style=\"color: #0087ff; text-decoration-color: #0087ff\">Dropout</span>)                  │ (<span style=\"color: #00d7ff; text-decoration-color: #00d7ff\">None</span>, <span style=\"color: #00af00; text-decoration-color: #00af00\">14</span>, <span style=\"color: #00af00; text-decoration-color: #00af00\">14</span>, <span style=\"color: #00af00; text-decoration-color: #00af00\">256</span>)         │               <span style=\"color: #00af00; text-decoration-color: #00af00\">0</span> │\n",
       "├──────────────────────────────────────┼─────────────────────────────┼─────────────────┤\n",
       "│ global_average_pooling2d             │ (<span style=\"color: #00d7ff; text-decoration-color: #00d7ff\">None</span>, <span style=\"color: #00af00; text-decoration-color: #00af00\">256</span>)                 │               <span style=\"color: #00af00; text-decoration-color: #00af00\">0</span> │\n",
       "│ (<span style=\"color: #0087ff; text-decoration-color: #0087ff\">GlobalAveragePooling2D</span>)             │                             │                 │\n",
       "├──────────────────────────────────────┼─────────────────────────────┼─────────────────┤\n",
       "│ dense (<span style=\"color: #0087ff; text-decoration-color: #0087ff\">Dense</span>)                        │ (<span style=\"color: #00d7ff; text-decoration-color: #00d7ff\">None</span>, <span style=\"color: #00af00; text-decoration-color: #00af00\">512</span>)                 │         <span style=\"color: #00af00; text-decoration-color: #00af00\">131,584</span> │\n",
       "├──────────────────────────────────────┼─────────────────────────────┼─────────────────┤\n",
       "│ batch_normalization_7                │ (<span style=\"color: #00d7ff; text-decoration-color: #00d7ff\">None</span>, <span style=\"color: #00af00; text-decoration-color: #00af00\">512</span>)                 │           <span style=\"color: #00af00; text-decoration-color: #00af00\">2,048</span> │\n",
       "│ (<span style=\"color: #0087ff; text-decoration-color: #0087ff\">BatchNormalization</span>)                 │                             │                 │\n",
       "├──────────────────────────────────────┼─────────────────────────────┼─────────────────┤\n",
       "│ dropout_4 (<span style=\"color: #0087ff; text-decoration-color: #0087ff\">Dropout</span>)                  │ (<span style=\"color: #00d7ff; text-decoration-color: #00d7ff\">None</span>, <span style=\"color: #00af00; text-decoration-color: #00af00\">512</span>)                 │               <span style=\"color: #00af00; text-decoration-color: #00af00\">0</span> │\n",
       "├──────────────────────────────────────┼─────────────────────────────┼─────────────────┤\n",
       "│ dense_1 (<span style=\"color: #0087ff; text-decoration-color: #0087ff\">Dense</span>)                      │ (<span style=\"color: #00d7ff; text-decoration-color: #00d7ff\">None</span>, <span style=\"color: #00af00; text-decoration-color: #00af00\">37</span>)                  │          <span style=\"color: #00af00; text-decoration-color: #00af00\">18,981</span> │\n",
       "└──────────────────────────────────────┴─────────────────────────────┴─────────────────┘\n",
       "</pre>\n"
      ],
      "text/plain": [
       "┏━━━━━━━━━━━━━━━━━━━━━━━━━━━━━━━━━━━━━━┳━━━━━━━━━━━━━━━━━━━━━━━━━━━━━┳━━━━━━━━━━━━━━━━━┓\n",
       "┃\u001b[1m \u001b[0m\u001b[1mLayer (type)                        \u001b[0m\u001b[1m \u001b[0m┃\u001b[1m \u001b[0m\u001b[1mOutput Shape               \u001b[0m\u001b[1m \u001b[0m┃\u001b[1m \u001b[0m\u001b[1m        Param #\u001b[0m\u001b[1m \u001b[0m┃\n",
       "┡━━━━━━━━━━━━━━━━━━━━━━━━━━━━━━━━━━━━━━╇━━━━━━━━━━━━━━━━━━━━━━━━━━━━━╇━━━━━━━━━━━━━━━━━┩\n",
       "│ conv2d (\u001b[38;5;33mConv2D\u001b[0m)                      │ (\u001b[38;5;45mNone\u001b[0m, \u001b[38;5;34m224\u001b[0m, \u001b[38;5;34m224\u001b[0m, \u001b[38;5;34m32\u001b[0m)        │             \u001b[38;5;34m896\u001b[0m │\n",
       "├──────────────────────────────────────┼─────────────────────────────┼─────────────────┤\n",
       "│ batch_normalization                  │ (\u001b[38;5;45mNone\u001b[0m, \u001b[38;5;34m224\u001b[0m, \u001b[38;5;34m224\u001b[0m, \u001b[38;5;34m32\u001b[0m)        │             \u001b[38;5;34m128\u001b[0m │\n",
       "│ (\u001b[38;5;33mBatchNormalization\u001b[0m)                 │                             │                 │\n",
       "├──────────────────────────────────────┼─────────────────────────────┼─────────────────┤\n",
       "│ conv2d_1 (\u001b[38;5;33mConv2D\u001b[0m)                    │ (\u001b[38;5;45mNone\u001b[0m, \u001b[38;5;34m224\u001b[0m, \u001b[38;5;34m224\u001b[0m, \u001b[38;5;34m32\u001b[0m)        │           \u001b[38;5;34m9,248\u001b[0m │\n",
       "├──────────────────────────────────────┼─────────────────────────────┼─────────────────┤\n",
       "│ batch_normalization_1                │ (\u001b[38;5;45mNone\u001b[0m, \u001b[38;5;34m224\u001b[0m, \u001b[38;5;34m224\u001b[0m, \u001b[38;5;34m32\u001b[0m)        │             \u001b[38;5;34m128\u001b[0m │\n",
       "│ (\u001b[38;5;33mBatchNormalization\u001b[0m)                 │                             │                 │\n",
       "├──────────────────────────────────────┼─────────────────────────────┼─────────────────┤\n",
       "│ max_pooling2d (\u001b[38;5;33mMaxPooling2D\u001b[0m)         │ (\u001b[38;5;45mNone\u001b[0m, \u001b[38;5;34m112\u001b[0m, \u001b[38;5;34m112\u001b[0m, \u001b[38;5;34m32\u001b[0m)        │               \u001b[38;5;34m0\u001b[0m │\n",
       "├──────────────────────────────────────┼─────────────────────────────┼─────────────────┤\n",
       "│ dropout (\u001b[38;5;33mDropout\u001b[0m)                    │ (\u001b[38;5;45mNone\u001b[0m, \u001b[38;5;34m112\u001b[0m, \u001b[38;5;34m112\u001b[0m, \u001b[38;5;34m32\u001b[0m)        │               \u001b[38;5;34m0\u001b[0m │\n",
       "├──────────────────────────────────────┼─────────────────────────────┼─────────────────┤\n",
       "│ conv2d_2 (\u001b[38;5;33mConv2D\u001b[0m)                    │ (\u001b[38;5;45mNone\u001b[0m, \u001b[38;5;34m112\u001b[0m, \u001b[38;5;34m112\u001b[0m, \u001b[38;5;34m64\u001b[0m)        │          \u001b[38;5;34m18,496\u001b[0m │\n",
       "├──────────────────────────────────────┼─────────────────────────────┼─────────────────┤\n",
       "│ batch_normalization_2                │ (\u001b[38;5;45mNone\u001b[0m, \u001b[38;5;34m112\u001b[0m, \u001b[38;5;34m112\u001b[0m, \u001b[38;5;34m64\u001b[0m)        │             \u001b[38;5;34m256\u001b[0m │\n",
       "│ (\u001b[38;5;33mBatchNormalization\u001b[0m)                 │                             │                 │\n",
       "├──────────────────────────────────────┼─────────────────────────────┼─────────────────┤\n",
       "│ conv2d_3 (\u001b[38;5;33mConv2D\u001b[0m)                    │ (\u001b[38;5;45mNone\u001b[0m, \u001b[38;5;34m112\u001b[0m, \u001b[38;5;34m112\u001b[0m, \u001b[38;5;34m64\u001b[0m)        │          \u001b[38;5;34m36,928\u001b[0m │\n",
       "├──────────────────────────────────────┼─────────────────────────────┼─────────────────┤\n",
       "│ batch_normalization_3                │ (\u001b[38;5;45mNone\u001b[0m, \u001b[38;5;34m112\u001b[0m, \u001b[38;5;34m112\u001b[0m, \u001b[38;5;34m64\u001b[0m)        │             \u001b[38;5;34m256\u001b[0m │\n",
       "│ (\u001b[38;5;33mBatchNormalization\u001b[0m)                 │                             │                 │\n",
       "├──────────────────────────────────────┼─────────────────────────────┼─────────────────┤\n",
       "│ max_pooling2d_1 (\u001b[38;5;33mMaxPooling2D\u001b[0m)       │ (\u001b[38;5;45mNone\u001b[0m, \u001b[38;5;34m56\u001b[0m, \u001b[38;5;34m56\u001b[0m, \u001b[38;5;34m64\u001b[0m)          │               \u001b[38;5;34m0\u001b[0m │\n",
       "├──────────────────────────────────────┼─────────────────────────────┼─────────────────┤\n",
       "│ dropout_1 (\u001b[38;5;33mDropout\u001b[0m)                  │ (\u001b[38;5;45mNone\u001b[0m, \u001b[38;5;34m56\u001b[0m, \u001b[38;5;34m56\u001b[0m, \u001b[38;5;34m64\u001b[0m)          │               \u001b[38;5;34m0\u001b[0m │\n",
       "├──────────────────────────────────────┼─────────────────────────────┼─────────────────┤\n",
       "│ conv2d_4 (\u001b[38;5;33mConv2D\u001b[0m)                    │ (\u001b[38;5;45mNone\u001b[0m, \u001b[38;5;34m56\u001b[0m, \u001b[38;5;34m56\u001b[0m, \u001b[38;5;34m128\u001b[0m)         │          \u001b[38;5;34m73,856\u001b[0m │\n",
       "├──────────────────────────────────────┼─────────────────────────────┼─────────────────┤\n",
       "│ batch_normalization_4                │ (\u001b[38;5;45mNone\u001b[0m, \u001b[38;5;34m56\u001b[0m, \u001b[38;5;34m56\u001b[0m, \u001b[38;5;34m128\u001b[0m)         │             \u001b[38;5;34m512\u001b[0m │\n",
       "│ (\u001b[38;5;33mBatchNormalization\u001b[0m)                 │                             │                 │\n",
       "├──────────────────────────────────────┼─────────────────────────────┼─────────────────┤\n",
       "│ conv2d_5 (\u001b[38;5;33mConv2D\u001b[0m)                    │ (\u001b[38;5;45mNone\u001b[0m, \u001b[38;5;34m56\u001b[0m, \u001b[38;5;34m56\u001b[0m, \u001b[38;5;34m128\u001b[0m)         │         \u001b[38;5;34m147,584\u001b[0m │\n",
       "├──────────────────────────────────────┼─────────────────────────────┼─────────────────┤\n",
       "│ batch_normalization_5                │ (\u001b[38;5;45mNone\u001b[0m, \u001b[38;5;34m56\u001b[0m, \u001b[38;5;34m56\u001b[0m, \u001b[38;5;34m128\u001b[0m)         │             \u001b[38;5;34m512\u001b[0m │\n",
       "│ (\u001b[38;5;33mBatchNormalization\u001b[0m)                 │                             │                 │\n",
       "├──────────────────────────────────────┼─────────────────────────────┼─────────────────┤\n",
       "│ max_pooling2d_2 (\u001b[38;5;33mMaxPooling2D\u001b[0m)       │ (\u001b[38;5;45mNone\u001b[0m, \u001b[38;5;34m28\u001b[0m, \u001b[38;5;34m28\u001b[0m, \u001b[38;5;34m128\u001b[0m)         │               \u001b[38;5;34m0\u001b[0m │\n",
       "├──────────────────────────────────────┼─────────────────────────────┼─────────────────┤\n",
       "│ dropout_2 (\u001b[38;5;33mDropout\u001b[0m)                  │ (\u001b[38;5;45mNone\u001b[0m, \u001b[38;5;34m28\u001b[0m, \u001b[38;5;34m28\u001b[0m, \u001b[38;5;34m128\u001b[0m)         │               \u001b[38;5;34m0\u001b[0m │\n",
       "├──────────────────────────────────────┼─────────────────────────────┼─────────────────┤\n",
       "│ conv2d_6 (\u001b[38;5;33mConv2D\u001b[0m)                    │ (\u001b[38;5;45mNone\u001b[0m, \u001b[38;5;34m28\u001b[0m, \u001b[38;5;34m28\u001b[0m, \u001b[38;5;34m256\u001b[0m)         │         \u001b[38;5;34m295,168\u001b[0m │\n",
       "├──────────────────────────────────────┼─────────────────────────────┼─────────────────┤\n",
       "│ batch_normalization_6                │ (\u001b[38;5;45mNone\u001b[0m, \u001b[38;5;34m28\u001b[0m, \u001b[38;5;34m28\u001b[0m, \u001b[38;5;34m256\u001b[0m)         │           \u001b[38;5;34m1,024\u001b[0m │\n",
       "│ (\u001b[38;5;33mBatchNormalization\u001b[0m)                 │                             │                 │\n",
       "├──────────────────────────────────────┼─────────────────────────────┼─────────────────┤\n",
       "│ max_pooling2d_3 (\u001b[38;5;33mMaxPooling2D\u001b[0m)       │ (\u001b[38;5;45mNone\u001b[0m, \u001b[38;5;34m14\u001b[0m, \u001b[38;5;34m14\u001b[0m, \u001b[38;5;34m256\u001b[0m)         │               \u001b[38;5;34m0\u001b[0m │\n",
       "├──────────────────────────────────────┼─────────────────────────────┼─────────────────┤\n",
       "│ dropout_3 (\u001b[38;5;33mDropout\u001b[0m)                  │ (\u001b[38;5;45mNone\u001b[0m, \u001b[38;5;34m14\u001b[0m, \u001b[38;5;34m14\u001b[0m, \u001b[38;5;34m256\u001b[0m)         │               \u001b[38;5;34m0\u001b[0m │\n",
       "├──────────────────────────────────────┼─────────────────────────────┼─────────────────┤\n",
       "│ global_average_pooling2d             │ (\u001b[38;5;45mNone\u001b[0m, \u001b[38;5;34m256\u001b[0m)                 │               \u001b[38;5;34m0\u001b[0m │\n",
       "│ (\u001b[38;5;33mGlobalAveragePooling2D\u001b[0m)             │                             │                 │\n",
       "├──────────────────────────────────────┼─────────────────────────────┼─────────────────┤\n",
       "│ dense (\u001b[38;5;33mDense\u001b[0m)                        │ (\u001b[38;5;45mNone\u001b[0m, \u001b[38;5;34m512\u001b[0m)                 │         \u001b[38;5;34m131,584\u001b[0m │\n",
       "├──────────────────────────────────────┼─────────────────────────────┼─────────────────┤\n",
       "│ batch_normalization_7                │ (\u001b[38;5;45mNone\u001b[0m, \u001b[38;5;34m512\u001b[0m)                 │           \u001b[38;5;34m2,048\u001b[0m │\n",
       "│ (\u001b[38;5;33mBatchNormalization\u001b[0m)                 │                             │                 │\n",
       "├──────────────────────────────────────┼─────────────────────────────┼─────────────────┤\n",
       "│ dropout_4 (\u001b[38;5;33mDropout\u001b[0m)                  │ (\u001b[38;5;45mNone\u001b[0m, \u001b[38;5;34m512\u001b[0m)                 │               \u001b[38;5;34m0\u001b[0m │\n",
       "├──────────────────────────────────────┼─────────────────────────────┼─────────────────┤\n",
       "│ dense_1 (\u001b[38;5;33mDense\u001b[0m)                      │ (\u001b[38;5;45mNone\u001b[0m, \u001b[38;5;34m37\u001b[0m)                  │          \u001b[38;5;34m18,981\u001b[0m │\n",
       "└──────────────────────────────────────┴─────────────────────────────┴─────────────────┘\n"
      ]
     },
     "metadata": {},
     "output_type": "display_data"
    },
    {
     "data": {
      "text/html": [
       "<pre style=\"white-space:pre;overflow-x:auto;line-height:normal;font-family:Menlo,'DejaVu Sans Mono',consolas,'Courier New',monospace\"><span style=\"font-weight: bold\"> Total params: </span><span style=\"color: #00af00; text-decoration-color: #00af00\">737,605</span> (2.81 MB)\n",
       "</pre>\n"
      ],
      "text/plain": [
       "\u001b[1m Total params: \u001b[0m\u001b[38;5;34m737,605\u001b[0m (2.81 MB)\n"
      ]
     },
     "metadata": {},
     "output_type": "display_data"
    },
    {
     "data": {
      "text/html": [
       "<pre style=\"white-space:pre;overflow-x:auto;line-height:normal;font-family:Menlo,'DejaVu Sans Mono',consolas,'Courier New',monospace\"><span style=\"font-weight: bold\"> Trainable params: </span><span style=\"color: #00af00; text-decoration-color: #00af00\">735,173</span> (2.80 MB)\n",
       "</pre>\n"
      ],
      "text/plain": [
       "\u001b[1m Trainable params: \u001b[0m\u001b[38;5;34m735,173\u001b[0m (2.80 MB)\n"
      ]
     },
     "metadata": {},
     "output_type": "display_data"
    },
    {
     "data": {
      "text/html": [
       "<pre style=\"white-space:pre;overflow-x:auto;line-height:normal;font-family:Menlo,'DejaVu Sans Mono',consolas,'Courier New',monospace\"><span style=\"font-weight: bold\"> Non-trainable params: </span><span style=\"color: #00af00; text-decoration-color: #00af00\">2,432</span> (9.50 KB)\n",
       "</pre>\n"
      ],
      "text/plain": [
       "\u001b[1m Non-trainable params: \u001b[0m\u001b[38;5;34m2,432\u001b[0m (9.50 KB)\n"
      ]
     },
     "metadata": {},
     "output_type": "display_data"
    }
   ],
   "source": [
    "model.summary()"
   ]
  },
  {
   "cell_type": "code",
   "execution_count": 11,
   "id": "d0a277c7",
   "metadata": {
    "execution": {
     "iopub.execute_input": "2025-04-13T05:40:28.263257Z",
     "iopub.status.busy": "2025-04-13T05:40:28.262835Z",
     "iopub.status.idle": "2025-04-13T05:40:28.275059Z",
     "shell.execute_reply": "2025-04-13T05:40:28.274502Z"
    },
    "id": "cT0r7dW2_Qyp",
    "papermill": {
     "duration": 0.020173,
     "end_time": "2025-04-13T05:40:28.276276",
     "exception": false,
     "start_time": "2025-04-13T05:40:28.256103",
     "status": "completed"
    },
    "tags": []
   },
   "outputs": [],
   "source": [
    "model.compile(\n",
    "    optimizer = 'adam',\n",
    "    loss      = 'categorical_crossentropy',\n",
    "    metrics   = ['accuracy']\n",
    ")"
   ]
  },
  {
   "cell_type": "markdown",
   "id": "af1af024",
   "metadata": {
    "id": "XvMi7dLl_jKq",
    "papermill": {
     "duration": 0.006003,
     "end_time": "2025-04-13T05:40:28.288968",
     "exception": false,
     "start_time": "2025-04-13T05:40:28.282965",
     "status": "completed"
    },
    "tags": []
   },
   "source": [
    "### **Callbacks**"
   ]
  },
  {
   "cell_type": "code",
   "execution_count": 12,
   "id": "63eb7a07",
   "metadata": {
    "execution": {
     "iopub.execute_input": "2025-04-13T05:40:28.302696Z",
     "iopub.status.busy": "2025-04-13T05:40:28.302189Z",
     "iopub.status.idle": "2025-04-13T05:40:28.306831Z",
     "shell.execute_reply": "2025-04-13T05:40:28.306225Z"
    },
    "id": "rpy-W246_mZI",
    "papermill": {
     "duration": 0.012838,
     "end_time": "2025-04-13T05:40:28.307947",
     "exception": false,
     "start_time": "2025-04-13T05:40:28.295109",
     "status": "completed"
    },
    "tags": []
   },
   "outputs": [],
   "source": [
    "accuracy_min = 0.92\n",
    "class CallbackStop(Callback):\n",
    "    def on_epoch_end(self, epoch, logs={}):\n",
    "        if logs.get('val_accuracy') > accuracy_min:\n",
    "            print(f'\\n✅ Akurasi telah mencapai {accuracy_min}')\n",
    "            self.model.stop_training = True\n",
    "\n",
    "callback_stop  = CallbackStop()\n",
    "early_stopping = EarlyStopping(monitor='val_accuracy', patience=15, restore_best_weights=True, mode='max')"
   ]
  },
  {
   "cell_type": "markdown",
   "id": "6d0c1201",
   "metadata": {
    "id": "XxOGepSdAn81",
    "papermill": {
     "duration": 0.005941,
     "end_time": "2025-04-13T05:40:28.320120",
     "exception": false,
     "start_time": "2025-04-13T05:40:28.314179",
     "status": "completed"
    },
    "tags": []
   },
   "source": [
    "### **Training**"
   ]
  },
  {
   "cell_type": "code",
   "execution_count": 13,
   "id": "ad013e48",
   "metadata": {
    "execution": {
     "iopub.execute_input": "2025-04-13T05:40:28.333255Z",
     "iopub.status.busy": "2025-04-13T05:40:28.332780Z",
     "iopub.status.idle": "2025-04-13T08:44:18.837418Z",
     "shell.execute_reply": "2025-04-13T08:44:18.836603Z"
    },
    "id": "3pMRCPgEAm6O",
    "outputId": "f6c13888-acbf-4a03-eba4-5a970f93460e",
    "papermill": {
     "duration": 11030.512885,
     "end_time": "2025-04-13T08:44:18.838907",
     "exception": false,
     "start_time": "2025-04-13T05:40:28.326022",
     "status": "completed"
    },
    "tags": []
   },
   "outputs": [
    {
     "name": "stdout",
     "output_type": "stream",
     "text": [
      "Epoch 1/120\n"
     ]
    },
    {
     "name": "stderr",
     "output_type": "stream",
     "text": [
      "/usr/local/lib/python3.11/dist-packages/keras/src/trainers/data_adapters/py_dataset_adapter.py:122: UserWarning: Your `PyDataset` class should call `super().__init__(**kwargs)` in its constructor. `**kwargs` can include `workers`, `use_multiprocessing`, `max_queue_size`. Do not pass these arguments to `fit()`, as they will be ignored.\n",
      "  self._warn_if_super_not_called()\n",
      "WARNING: All log messages before absl::InitializeLog() is called are written to STDERR\n",
      "I0000 00:00:1744522839.562597      82 service.cc:148] XLA service 0x7eba1810eb00 initialized for platform CUDA (this does not guarantee that XLA will be used). Devices:\n",
      "I0000 00:00:1744522839.563405      82 service.cc:156]   StreamExecutor device (0): Tesla P100-PCIE-16GB, Compute Capability 6.0\n",
      "I0000 00:00:1744522840.374307      82 cuda_dnn.cc:529] Loaded cuDNN version 90300\n"
     ]
    },
    {
     "name": "stdout",
     "output_type": "stream",
     "text": [
      "\u001b[1m  2/360\u001b[0m \u001b[37m━━━━━━━━━━━━━━━━━━━━\u001b[0m \u001b[1m26s\u001b[0m 75ms/step - accuracy: 0.0234 - loss: 4.6391   "
     ]
    },
    {
     "name": "stderr",
     "output_type": "stream",
     "text": [
      "I0000 00:00:1744522852.820270      82 device_compiler.h:188] Compiled cluster using XLA!  This line is logged at most once for the lifetime of the process.\n"
     ]
    },
    {
     "name": "stdout",
     "output_type": "stream",
     "text": [
      "\u001b[1m360/360\u001b[0m \u001b[32m━━━━━━━━━━━━━━━━━━━━\u001b[0m\u001b[37m\u001b[0m \u001b[1m150s\u001b[0m 353ms/step - accuracy: 0.1076 - loss: 3.8142 - val_accuracy: 0.1056 - val_loss: 3.5915\n",
      "Epoch 2/120\n",
      "\u001b[1m360/360\u001b[0m \u001b[32m━━━━━━━━━━━━━━━━━━━━\u001b[0m\u001b[37m\u001b[0m \u001b[1m120s\u001b[0m 326ms/step - accuracy: 0.2286 - loss: 2.9152 - val_accuracy: 0.2958 - val_loss: 2.6997\n",
      "Epoch 3/120\n",
      "\u001b[1m360/360\u001b[0m \u001b[32m━━━━━━━━━━━━━━━━━━━━\u001b[0m\u001b[37m\u001b[0m \u001b[1m119s\u001b[0m 323ms/step - accuracy: 0.2899 - loss: 2.5850 - val_accuracy: 0.2035 - val_loss: 4.4404\n",
      "Epoch 4/120\n",
      "\u001b[1m360/360\u001b[0m \u001b[32m━━━━━━━━━━━━━━━━━━━━\u001b[0m\u001b[37m\u001b[0m \u001b[1m118s\u001b[0m 322ms/step - accuracy: 0.3554 - loss: 2.2839 - val_accuracy: 0.1882 - val_loss: 4.4777\n",
      "Epoch 5/120\n",
      "\u001b[1m360/360\u001b[0m \u001b[32m━━━━━━━━━━━━━━━━━━━━\u001b[0m\u001b[37m\u001b[0m \u001b[1m119s\u001b[0m 325ms/step - accuracy: 0.4096 - loss: 2.0516 - val_accuracy: 0.4563 - val_loss: 2.0208\n",
      "Epoch 6/120\n",
      "\u001b[1m360/360\u001b[0m \u001b[32m━━━━━━━━━━━━━━━━━━━━\u001b[0m\u001b[37m\u001b[0m \u001b[1m119s\u001b[0m 325ms/step - accuracy: 0.4479 - loss: 1.9018 - val_accuracy: 0.4535 - val_loss: 1.9639\n",
      "Epoch 7/120\n",
      "\u001b[1m360/360\u001b[0m \u001b[32m━━━━━━━━━━━━━━━━━━━━\u001b[0m\u001b[37m\u001b[0m \u001b[1m118s\u001b[0m 320ms/step - accuracy: 0.4818 - loss: 1.7499 - val_accuracy: 0.4924 - val_loss: 1.8427\n",
      "Epoch 8/120\n",
      "\u001b[1m360/360\u001b[0m \u001b[32m━━━━━━━━━━━━━━━━━━━━\u001b[0m\u001b[37m\u001b[0m \u001b[1m119s\u001b[0m 324ms/step - accuracy: 0.5272 - loss: 1.6130 - val_accuracy: 0.5361 - val_loss: 1.6892\n",
      "Epoch 9/120\n",
      "\u001b[1m360/360\u001b[0m \u001b[32m━━━━━━━━━━━━━━━━━━━━\u001b[0m\u001b[37m\u001b[0m \u001b[1m117s\u001b[0m 319ms/step - accuracy: 0.5298 - loss: 1.5974 - val_accuracy: 0.5125 - val_loss: 1.7694\n",
      "Epoch 10/120\n",
      "\u001b[1m360/360\u001b[0m \u001b[32m━━━━━━━━━━━━━━━━━━━━\u001b[0m\u001b[37m\u001b[0m \u001b[1m118s\u001b[0m 320ms/step - accuracy: 0.5640 - loss: 1.4641 - val_accuracy: 0.5826 - val_loss: 1.4238\n",
      "Epoch 11/120\n",
      "\u001b[1m360/360\u001b[0m \u001b[32m━━━━━━━━━━━━━━━━━━━━\u001b[0m\u001b[37m\u001b[0m \u001b[1m118s\u001b[0m 321ms/step - accuracy: 0.5883 - loss: 1.3973 - val_accuracy: 0.5972 - val_loss: 1.4034\n",
      "Epoch 12/120\n",
      "\u001b[1m360/360\u001b[0m \u001b[32m━━━━━━━━━━━━━━━━━━━━\u001b[0m\u001b[37m\u001b[0m \u001b[1m117s\u001b[0m 318ms/step - accuracy: 0.6067 - loss: 1.3245 - val_accuracy: 0.5701 - val_loss: 1.6320\n",
      "Epoch 13/120\n",
      "\u001b[1m360/360\u001b[0m \u001b[32m━━━━━━━━━━━━━━━━━━━━\u001b[0m\u001b[37m\u001b[0m \u001b[1m118s\u001b[0m 320ms/step - accuracy: 0.6345 - loss: 1.2424 - val_accuracy: 0.5111 - val_loss: 1.8012\n",
      "Epoch 14/120\n",
      "\u001b[1m360/360\u001b[0m \u001b[32m━━━━━━━━━━━━━━━━━━━━\u001b[0m\u001b[37m\u001b[0m \u001b[1m118s\u001b[0m 320ms/step - accuracy: 0.6612 - loss: 1.1482 - val_accuracy: 0.7097 - val_loss: 1.0622\n",
      "Epoch 15/120\n",
      "\u001b[1m360/360\u001b[0m \u001b[32m━━━━━━━━━━━━━━━━━━━━\u001b[0m\u001b[37m\u001b[0m \u001b[1m117s\u001b[0m 319ms/step - accuracy: 0.6689 - loss: 1.0934 - val_accuracy: 0.6347 - val_loss: 1.2686\n",
      "Epoch 16/120\n",
      "\u001b[1m360/360\u001b[0m \u001b[32m━━━━━━━━━━━━━━━━━━━━\u001b[0m\u001b[37m\u001b[0m \u001b[1m118s\u001b[0m 321ms/step - accuracy: 0.6857 - loss: 1.0769 - val_accuracy: 0.5833 - val_loss: 1.6055\n",
      "Epoch 17/120\n",
      "\u001b[1m360/360\u001b[0m \u001b[32m━━━━━━━━━━━━━━━━━━━━\u001b[0m\u001b[37m\u001b[0m \u001b[1m116s\u001b[0m 316ms/step - accuracy: 0.6936 - loss: 1.0343 - val_accuracy: 0.5632 - val_loss: 2.0082\n",
      "Epoch 18/120\n",
      "\u001b[1m360/360\u001b[0m \u001b[32m━━━━━━━━━━━━━━━━━━━━\u001b[0m\u001b[37m\u001b[0m \u001b[1m116s\u001b[0m 317ms/step - accuracy: 0.7171 - loss: 0.9542 - val_accuracy: 0.5931 - val_loss: 1.6866\n",
      "Epoch 19/120\n",
      "\u001b[1m360/360\u001b[0m \u001b[32m━━━━━━━━━━━━━━━━━━━━\u001b[0m\u001b[37m\u001b[0m \u001b[1m117s\u001b[0m 319ms/step - accuracy: 0.7243 - loss: 0.9200 - val_accuracy: 0.6847 - val_loss: 1.2404\n",
      "Epoch 20/120\n",
      "\u001b[1m360/360\u001b[0m \u001b[32m━━━━━━━━━━━━━━━━━━━━\u001b[0m\u001b[37m\u001b[0m \u001b[1m116s\u001b[0m 316ms/step - accuracy: 0.7358 - loss: 0.8947 - val_accuracy: 0.7368 - val_loss: 0.9857\n",
      "Epoch 21/120\n",
      "\u001b[1m360/360\u001b[0m \u001b[32m━━━━━━━━━━━━━━━━━━━━\u001b[0m\u001b[37m\u001b[0m \u001b[1m118s\u001b[0m 321ms/step - accuracy: 0.7461 - loss: 0.8596 - val_accuracy: 0.6368 - val_loss: 1.3891\n",
      "Epoch 22/120\n",
      "\u001b[1m360/360\u001b[0m \u001b[32m━━━━━━━━━━━━━━━━━━━━\u001b[0m\u001b[37m\u001b[0m \u001b[1m117s\u001b[0m 319ms/step - accuracy: 0.7583 - loss: 0.8045 - val_accuracy: 0.7097 - val_loss: 1.2804\n",
      "Epoch 23/120\n",
      "\u001b[1m360/360\u001b[0m \u001b[32m━━━━━━━━━━━━━━━━━━━━\u001b[0m\u001b[37m\u001b[0m \u001b[1m117s\u001b[0m 318ms/step - accuracy: 0.7589 - loss: 0.7885 - val_accuracy: 0.7743 - val_loss: 0.7867\n",
      "Epoch 24/120\n",
      "\u001b[1m360/360\u001b[0m \u001b[32m━━━━━━━━━━━━━━━━━━━━\u001b[0m\u001b[37m\u001b[0m \u001b[1m116s\u001b[0m 316ms/step - accuracy: 0.7754 - loss: 0.7346 - val_accuracy: 0.7576 - val_loss: 0.8678\n",
      "Epoch 25/120\n",
      "\u001b[1m360/360\u001b[0m \u001b[32m━━━━━━━━━━━━━━━━━━━━\u001b[0m\u001b[37m\u001b[0m \u001b[1m117s\u001b[0m 319ms/step - accuracy: 0.7811 - loss: 0.7497 - val_accuracy: 0.7833 - val_loss: 0.7817\n",
      "Epoch 26/120\n",
      "\u001b[1m360/360\u001b[0m \u001b[32m━━━━━━━━━━━━━━━━━━━━\u001b[0m\u001b[37m\u001b[0m \u001b[1m117s\u001b[0m 318ms/step - accuracy: 0.7830 - loss: 0.7101 - val_accuracy: 0.7931 - val_loss: 0.7366\n",
      "Epoch 27/120\n",
      "\u001b[1m360/360\u001b[0m \u001b[32m━━━━━━━━━━━━━━━━━━━━\u001b[0m\u001b[37m\u001b[0m \u001b[1m118s\u001b[0m 321ms/step - accuracy: 0.8012 - loss: 0.6540 - val_accuracy: 0.6549 - val_loss: 1.3658\n",
      "Epoch 28/120\n",
      "\u001b[1m360/360\u001b[0m \u001b[32m━━━━━━━━━━━━━━━━━━━━\u001b[0m\u001b[37m\u001b[0m \u001b[1m117s\u001b[0m 317ms/step - accuracy: 0.8014 - loss: 0.6660 - val_accuracy: 0.8042 - val_loss: 0.7358\n",
      "Epoch 29/120\n",
      "\u001b[1m360/360\u001b[0m \u001b[32m━━━━━━━━━━━━━━━━━━━━\u001b[0m\u001b[37m\u001b[0m \u001b[1m117s\u001b[0m 319ms/step - accuracy: 0.8052 - loss: 0.6202 - val_accuracy: 0.7340 - val_loss: 1.0502\n",
      "Epoch 30/120\n",
      "\u001b[1m360/360\u001b[0m \u001b[32m━━━━━━━━━━━━━━━━━━━━\u001b[0m\u001b[37m\u001b[0m \u001b[1m117s\u001b[0m 319ms/step - accuracy: 0.8134 - loss: 0.6267 - val_accuracy: 0.6556 - val_loss: 1.4155\n",
      "Epoch 31/120\n",
      "\u001b[1m360/360\u001b[0m \u001b[32m━━━━━━━━━━━━━━━━━━━━\u001b[0m\u001b[37m\u001b[0m \u001b[1m116s\u001b[0m 317ms/step - accuracy: 0.8237 - loss: 0.5862 - val_accuracy: 0.8153 - val_loss: 0.7285\n",
      "Epoch 32/120\n",
      "\u001b[1m360/360\u001b[0m \u001b[32m━━━━━━━━━━━━━━━━━━━━\u001b[0m\u001b[37m\u001b[0m \u001b[1m117s\u001b[0m 319ms/step - accuracy: 0.8247 - loss: 0.5825 - val_accuracy: 0.7174 - val_loss: 1.0503\n",
      "Epoch 33/120\n",
      "\u001b[1m360/360\u001b[0m \u001b[32m━━━━━━━━━━━━━━━━━━━━\u001b[0m\u001b[37m\u001b[0m \u001b[1m116s\u001b[0m 316ms/step - accuracy: 0.8172 - loss: 0.5837 - val_accuracy: 0.8236 - val_loss: 0.6590\n",
      "Epoch 34/120\n",
      "\u001b[1m360/360\u001b[0m \u001b[32m━━━━━━━━━━━━━━━━━━━━\u001b[0m\u001b[37m\u001b[0m \u001b[1m116s\u001b[0m 317ms/step - accuracy: 0.8299 - loss: 0.5427 - val_accuracy: 0.7847 - val_loss: 0.8282\n",
      "Epoch 35/120\n",
      "\u001b[1m360/360\u001b[0m \u001b[32m━━━━━━━━━━━━━━━━━━━━\u001b[0m\u001b[37m\u001b[0m \u001b[1m117s\u001b[0m 319ms/step - accuracy: 0.8359 - loss: 0.5448 - val_accuracy: 0.8243 - val_loss: 0.7010\n",
      "Epoch 36/120\n",
      "\u001b[1m360/360\u001b[0m \u001b[32m━━━━━━━━━━━━━━━━━━━━\u001b[0m\u001b[37m\u001b[0m \u001b[1m116s\u001b[0m 317ms/step - accuracy: 0.8468 - loss: 0.5054 - val_accuracy: 0.8069 - val_loss: 0.7296\n",
      "Epoch 37/120\n",
      "\u001b[1m360/360\u001b[0m \u001b[32m━━━━━━━━━━━━━━━━━━━━\u001b[0m\u001b[37m\u001b[0m \u001b[1m117s\u001b[0m 318ms/step - accuracy: 0.8472 - loss: 0.4950 - val_accuracy: 0.7521 - val_loss: 1.0383\n",
      "Epoch 38/120\n",
      "\u001b[1m360/360\u001b[0m \u001b[32m━━━━━━━━━━━━━━━━━━━━\u001b[0m\u001b[37m\u001b[0m \u001b[1m117s\u001b[0m 317ms/step - accuracy: 0.8548 - loss: 0.4782 - val_accuracy: 0.8056 - val_loss: 0.7643\n",
      "Epoch 39/120\n",
      "\u001b[1m360/360\u001b[0m \u001b[32m━━━━━━━━━━━━━━━━━━━━\u001b[0m\u001b[37m\u001b[0m \u001b[1m117s\u001b[0m 319ms/step - accuracy: 0.8554 - loss: 0.4587 - val_accuracy: 0.8271 - val_loss: 0.7034\n",
      "Epoch 40/120\n",
      "\u001b[1m360/360\u001b[0m \u001b[32m━━━━━━━━━━━━━━━━━━━━\u001b[0m\u001b[37m\u001b[0m \u001b[1m117s\u001b[0m 319ms/step - accuracy: 0.8606 - loss: 0.4435 - val_accuracy: 0.8403 - val_loss: 0.6446\n",
      "Epoch 41/120\n",
      "\u001b[1m360/360\u001b[0m \u001b[32m━━━━━━━━━━━━━━━━━━━━\u001b[0m\u001b[37m\u001b[0m \u001b[1m116s\u001b[0m 317ms/step - accuracy: 0.8629 - loss: 0.4413 - val_accuracy: 0.7937 - val_loss: 0.7881\n",
      "Epoch 42/120\n",
      "\u001b[1m360/360\u001b[0m \u001b[32m━━━━━━━━━━━━━━━━━━━━\u001b[0m\u001b[37m\u001b[0m \u001b[1m117s\u001b[0m 318ms/step - accuracy: 0.8659 - loss: 0.4393 - val_accuracy: 0.8271 - val_loss: 0.6994\n",
      "Epoch 43/120\n",
      "\u001b[1m360/360\u001b[0m \u001b[32m━━━━━━━━━━━━━━━━━━━━\u001b[0m\u001b[37m\u001b[0m \u001b[1m117s\u001b[0m 317ms/step - accuracy: 0.8681 - loss: 0.4333 - val_accuracy: 0.7521 - val_loss: 1.1162\n",
      "Epoch 44/120\n",
      "\u001b[1m360/360\u001b[0m \u001b[32m━━━━━━━━━━━━━━━━━━━━\u001b[0m\u001b[37m\u001b[0m \u001b[1m117s\u001b[0m 318ms/step - accuracy: 0.8717 - loss: 0.4240 - val_accuracy: 0.8458 - val_loss: 0.5814\n",
      "Epoch 45/120\n",
      "\u001b[1m360/360\u001b[0m \u001b[32m━━━━━━━━━━━━━━━━━━━━\u001b[0m\u001b[37m\u001b[0m \u001b[1m117s\u001b[0m 319ms/step - accuracy: 0.8547 - loss: 0.4665 - val_accuracy: 0.8056 - val_loss: 0.8789\n",
      "Epoch 46/120\n",
      "\u001b[1m360/360\u001b[0m \u001b[32m━━━━━━━━━━━━━━━━━━━━\u001b[0m\u001b[37m\u001b[0m \u001b[1m118s\u001b[0m 320ms/step - accuracy: 0.8669 - loss: 0.4203 - val_accuracy: 0.8021 - val_loss: 0.8687\n",
      "Epoch 47/120\n",
      "\u001b[1m360/360\u001b[0m \u001b[32m━━━━━━━━━━━━━━━━━━━━\u001b[0m\u001b[37m\u001b[0m \u001b[1m118s\u001b[0m 321ms/step - accuracy: 0.8809 - loss: 0.3880 - val_accuracy: 0.8188 - val_loss: 0.7208\n",
      "Epoch 48/120\n",
      "\u001b[1m360/360\u001b[0m \u001b[32m━━━━━━━━━━━━━━━━━━━━\u001b[0m\u001b[37m\u001b[0m \u001b[1m118s\u001b[0m 320ms/step - accuracy: 0.8827 - loss: 0.3676 - val_accuracy: 0.8361 - val_loss: 0.6340\n",
      "Epoch 49/120\n",
      "\u001b[1m360/360\u001b[0m \u001b[32m━━━━━━━━━━━━━━━━━━━━\u001b[0m\u001b[37m\u001b[0m \u001b[1m117s\u001b[0m 317ms/step - accuracy: 0.8871 - loss: 0.3624 - val_accuracy: 0.8243 - val_loss: 0.7298\n",
      "Epoch 50/120\n",
      "\u001b[1m360/360\u001b[0m \u001b[32m━━━━━━━━━━━━━━━━━━━━\u001b[0m\u001b[37m\u001b[0m \u001b[1m117s\u001b[0m 318ms/step - accuracy: 0.8785 - loss: 0.3809 - val_accuracy: 0.8451 - val_loss: 0.6441\n",
      "Epoch 51/120\n",
      "\u001b[1m360/360\u001b[0m \u001b[32m━━━━━━━━━━━━━━━━━━━━\u001b[0m\u001b[37m\u001b[0m \u001b[1m117s\u001b[0m 317ms/step - accuracy: 0.8904 - loss: 0.3557 - val_accuracy: 0.8493 - val_loss: 0.6024\n",
      "Epoch 52/120\n",
      "\u001b[1m360/360\u001b[0m \u001b[32m━━━━━━━━━━━━━━━━━━━━\u001b[0m\u001b[37m\u001b[0m \u001b[1m117s\u001b[0m 318ms/step - accuracy: 0.8899 - loss: 0.3545 - val_accuracy: 0.8097 - val_loss: 0.8393\n",
      "Epoch 53/120\n",
      "\u001b[1m360/360\u001b[0m \u001b[32m━━━━━━━━━━━━━━━━━━━━\u001b[0m\u001b[37m\u001b[0m \u001b[1m117s\u001b[0m 318ms/step - accuracy: 0.8894 - loss: 0.3670 - val_accuracy: 0.8292 - val_loss: 0.7644\n",
      "Epoch 54/120\n",
      "\u001b[1m360/360\u001b[0m \u001b[32m━━━━━━━━━━━━━━━━━━━━\u001b[0m\u001b[37m\u001b[0m \u001b[1m116s\u001b[0m 317ms/step - accuracy: 0.9012 - loss: 0.3221 - val_accuracy: 0.8222 - val_loss: 0.7796\n",
      "Epoch 55/120\n",
      "\u001b[1m360/360\u001b[0m \u001b[32m━━━━━━━━━━━━━━━━━━━━\u001b[0m\u001b[37m\u001b[0m \u001b[1m117s\u001b[0m 318ms/step - accuracy: 0.8951 - loss: 0.3439 - val_accuracy: 0.8062 - val_loss: 0.8670\n",
      "Epoch 56/120\n",
      "\u001b[1m360/360\u001b[0m \u001b[32m━━━━━━━━━━━━━━━━━━━━\u001b[0m\u001b[37m\u001b[0m \u001b[1m117s\u001b[0m 317ms/step - accuracy: 0.8908 - loss: 0.3433 - val_accuracy: 0.8396 - val_loss: 0.7037\n",
      "Epoch 57/120\n",
      "\u001b[1m360/360\u001b[0m \u001b[32m━━━━━━━━━━━━━━━━━━━━\u001b[0m\u001b[37m\u001b[0m \u001b[1m116s\u001b[0m 316ms/step - accuracy: 0.8879 - loss: 0.3524 - val_accuracy: 0.8333 - val_loss: 0.7827\n",
      "Epoch 58/120\n",
      "\u001b[1m360/360\u001b[0m \u001b[32m━━━━━━━━━━━━━━━━━━━━\u001b[0m\u001b[37m\u001b[0m \u001b[1m117s\u001b[0m 319ms/step - accuracy: 0.9014 - loss: 0.3036 - val_accuracy: 0.8451 - val_loss: 0.6722\n",
      "Epoch 59/120\n",
      "\u001b[1m360/360\u001b[0m \u001b[32m━━━━━━━━━━━━━━━━━━━━\u001b[0m\u001b[37m\u001b[0m \u001b[1m117s\u001b[0m 318ms/step - accuracy: 0.9016 - loss: 0.3218 - val_accuracy: 0.8222 - val_loss: 0.7730\n",
      "Epoch 60/120\n",
      "\u001b[1m360/360\u001b[0m \u001b[32m━━━━━━━━━━━━━━━━━━━━\u001b[0m\u001b[37m\u001b[0m \u001b[1m117s\u001b[0m 318ms/step - accuracy: 0.9012 - loss: 0.3095 - val_accuracy: 0.8479 - val_loss: 0.6330\n",
      "Epoch 61/120\n",
      "\u001b[1m360/360\u001b[0m \u001b[32m━━━━━━━━━━━━━━━━━━━━\u001b[0m\u001b[37m\u001b[0m \u001b[1m117s\u001b[0m 318ms/step - accuracy: 0.9043 - loss: 0.3084 - val_accuracy: 0.8389 - val_loss: 0.6493\n",
      "Epoch 62/120\n",
      "\u001b[1m360/360\u001b[0m \u001b[32m━━━━━━━━━━━━━━━━━━━━\u001b[0m\u001b[37m\u001b[0m \u001b[1m116s\u001b[0m 316ms/step - accuracy: 0.8954 - loss: 0.3368 - val_accuracy: 0.8354 - val_loss: 0.6995\n",
      "Epoch 63/120\n",
      "\u001b[1m360/360\u001b[0m \u001b[32m━━━━━━━━━━━━━━━━━━━━\u001b[0m\u001b[37m\u001b[0m \u001b[1m116s\u001b[0m 316ms/step - accuracy: 0.9021 - loss: 0.2999 - val_accuracy: 0.8417 - val_loss: 0.6553\n",
      "Epoch 64/120\n",
      "\u001b[1m360/360\u001b[0m \u001b[32m━━━━━━━━━━━━━━━━━━━━\u001b[0m\u001b[37m\u001b[0m \u001b[1m116s\u001b[0m 317ms/step - accuracy: 0.9100 - loss: 0.2833 - val_accuracy: 0.7451 - val_loss: 1.3494\n",
      "Epoch 65/120\n",
      "\u001b[1m360/360\u001b[0m \u001b[32m━━━━━━━━━━━━━━━━━━━━\u001b[0m\u001b[37m\u001b[0m \u001b[1m116s\u001b[0m 315ms/step - accuracy: 0.9067 - loss: 0.3009 - val_accuracy: 0.8521 - val_loss: 0.6734\n",
      "Epoch 66/120\n",
      "\u001b[1m360/360\u001b[0m \u001b[32m━━━━━━━━━━━━━━━━━━━━\u001b[0m\u001b[37m\u001b[0m \u001b[1m117s\u001b[0m 318ms/step - accuracy: 0.9133 - loss: 0.2687 - val_accuracy: 0.8035 - val_loss: 0.8295\n",
      "Epoch 67/120\n",
      "\u001b[1m360/360\u001b[0m \u001b[32m━━━━━━━━━━━━━━━━━━━━\u001b[0m\u001b[37m\u001b[0m \u001b[1m118s\u001b[0m 323ms/step - accuracy: 0.8987 - loss: 0.3085 - val_accuracy: 0.8153 - val_loss: 0.8053\n",
      "Epoch 68/120\n",
      "\u001b[1m360/360\u001b[0m \u001b[32m━━━━━━━━━━━━━━━━━━━━\u001b[0m\u001b[37m\u001b[0m \u001b[1m118s\u001b[0m 321ms/step - accuracy: 0.9135 - loss: 0.2700 - val_accuracy: 0.8667 - val_loss: 0.5916\n",
      "Epoch 69/120\n",
      "\u001b[1m360/360\u001b[0m \u001b[32m━━━━━━━━━━━━━━━━━━━━\u001b[0m\u001b[37m\u001b[0m \u001b[1m117s\u001b[0m 320ms/step - accuracy: 0.9091 - loss: 0.2885 - val_accuracy: 0.8569 - val_loss: 0.5848\n",
      "Epoch 70/120\n",
      "\u001b[1m360/360\u001b[0m \u001b[32m━━━━━━━━━━━━━━━━━━━━\u001b[0m\u001b[37m\u001b[0m \u001b[1m116s\u001b[0m 316ms/step - accuracy: 0.9077 - loss: 0.2817 - val_accuracy: 0.8319 - val_loss: 0.6968\n",
      "Epoch 71/120\n",
      "\u001b[1m360/360\u001b[0m \u001b[32m━━━━━━━━━━━━━━━━━━━━\u001b[0m\u001b[37m\u001b[0m \u001b[1m116s\u001b[0m 316ms/step - accuracy: 0.9125 - loss: 0.2756 - val_accuracy: 0.8604 - val_loss: 0.6133\n",
      "Epoch 72/120\n",
      "\u001b[1m360/360\u001b[0m \u001b[32m━━━━━━━━━━━━━━━━━━━━\u001b[0m\u001b[37m\u001b[0m \u001b[1m115s\u001b[0m 315ms/step - accuracy: 0.9187 - loss: 0.2494 - val_accuracy: 0.8590 - val_loss: 0.6387\n",
      "Epoch 73/120\n",
      "\u001b[1m360/360\u001b[0m \u001b[32m━━━━━━━━━━━━━━━━━━━━\u001b[0m\u001b[37m\u001b[0m \u001b[1m116s\u001b[0m 315ms/step - accuracy: 0.9173 - loss: 0.2648 - val_accuracy: 0.8674 - val_loss: 0.5780\n",
      "Epoch 74/120\n",
      "\u001b[1m360/360\u001b[0m \u001b[32m━━━━━━━━━━━━━━━━━━━━\u001b[0m\u001b[37m\u001b[0m \u001b[1m117s\u001b[0m 319ms/step - accuracy: 0.9184 - loss: 0.2426 - val_accuracy: 0.8549 - val_loss: 0.6520\n",
      "Epoch 75/120\n",
      "\u001b[1m360/360\u001b[0m \u001b[32m━━━━━━━━━━━━━━━━━━━━\u001b[0m\u001b[37m\u001b[0m \u001b[1m117s\u001b[0m 318ms/step - accuracy: 0.9111 - loss: 0.2702 - val_accuracy: 0.8125 - val_loss: 0.9459\n",
      "Epoch 76/120\n",
      "\u001b[1m360/360\u001b[0m \u001b[32m━━━━━━━━━━━━━━━━━━━━\u001b[0m\u001b[37m\u001b[0m \u001b[1m116s\u001b[0m 317ms/step - accuracy: 0.9221 - loss: 0.2464 - val_accuracy: 0.8556 - val_loss: 0.6217\n",
      "Epoch 77/120\n",
      "\u001b[1m360/360\u001b[0m \u001b[32m━━━━━━━━━━━━━━━━━━━━\u001b[0m\u001b[37m\u001b[0m \u001b[1m117s\u001b[0m 319ms/step - accuracy: 0.9201 - loss: 0.2503 - val_accuracy: 0.8493 - val_loss: 0.6365\n",
      "Epoch 78/120\n",
      "\u001b[1m360/360\u001b[0m \u001b[32m━━━━━━━━━━━━━━━━━━━━\u001b[0m\u001b[37m\u001b[0m \u001b[1m116s\u001b[0m 316ms/step - accuracy: 0.9129 - loss: 0.2649 - val_accuracy: 0.8257 - val_loss: 0.8001\n",
      "Epoch 79/120\n",
      "\u001b[1m360/360\u001b[0m \u001b[32m━━━━━━━━━━━━━━━━━━━━\u001b[0m\u001b[37m\u001b[0m \u001b[1m116s\u001b[0m 316ms/step - accuracy: 0.9195 - loss: 0.2535 - val_accuracy: 0.8785 - val_loss: 0.5431\n",
      "Epoch 80/120\n",
      "\u001b[1m360/360\u001b[0m \u001b[32m━━━━━━━━━━━━━━━━━━━━\u001b[0m\u001b[37m\u001b[0m \u001b[1m117s\u001b[0m 318ms/step - accuracy: 0.9262 - loss: 0.2271 - val_accuracy: 0.8687 - val_loss: 0.5244\n",
      "Epoch 81/120\n",
      "\u001b[1m360/360\u001b[0m \u001b[32m━━━━━━━━━━━━━━━━━━━━\u001b[0m\u001b[37m\u001b[0m \u001b[1m116s\u001b[0m 317ms/step - accuracy: 0.9202 - loss: 0.2448 - val_accuracy: 0.8243 - val_loss: 0.7600\n",
      "Epoch 82/120\n",
      "\u001b[1m360/360\u001b[0m \u001b[32m━━━━━━━━━━━━━━━━━━━━\u001b[0m\u001b[37m\u001b[0m \u001b[1m117s\u001b[0m 319ms/step - accuracy: 0.9269 - loss: 0.2341 - val_accuracy: 0.8625 - val_loss: 0.6293\n",
      "Epoch 83/120\n",
      "\u001b[1m360/360\u001b[0m \u001b[32m━━━━━━━━━━━━━━━━━━━━\u001b[0m\u001b[37m\u001b[0m \u001b[1m117s\u001b[0m 318ms/step - accuracy: 0.9248 - loss: 0.2346 - val_accuracy: 0.8528 - val_loss: 0.7140\n",
      "Epoch 84/120\n",
      "\u001b[1m360/360\u001b[0m \u001b[32m━━━━━━━━━━━━━━━━━━━━\u001b[0m\u001b[37m\u001b[0m \u001b[1m117s\u001b[0m 320ms/step - accuracy: 0.9158 - loss: 0.2698 - val_accuracy: 0.8493 - val_loss: 0.6428\n",
      "Epoch 85/120\n",
      "\u001b[1m360/360\u001b[0m \u001b[32m━━━━━━━━━━━━━━━━━━━━\u001b[0m\u001b[37m\u001b[0m \u001b[1m117s\u001b[0m 318ms/step - accuracy: 0.9297 - loss: 0.2115 - val_accuracy: 0.8083 - val_loss: 1.3559\n",
      "Epoch 86/120\n",
      "\u001b[1m360/360\u001b[0m \u001b[32m━━━━━━━━━━━━━━━━━━━━\u001b[0m\u001b[37m\u001b[0m \u001b[1m117s\u001b[0m 318ms/step - accuracy: 0.9261 - loss: 0.2261 - val_accuracy: 0.8493 - val_loss: 0.6847\n",
      "Epoch 87/120\n",
      "\u001b[1m360/360\u001b[0m \u001b[32m━━━━━━━━━━━━━━━━━━━━\u001b[0m\u001b[37m\u001b[0m \u001b[1m117s\u001b[0m 317ms/step - accuracy: 0.9272 - loss: 0.2265 - val_accuracy: 0.8292 - val_loss: 0.8974\n",
      "Epoch 88/120\n",
      "\u001b[1m360/360\u001b[0m \u001b[32m━━━━━━━━━━━━━━━━━━━━\u001b[0m\u001b[37m\u001b[0m \u001b[1m117s\u001b[0m 318ms/step - accuracy: 0.9225 - loss: 0.2301 - val_accuracy: 0.8368 - val_loss: 0.8039\n",
      "Epoch 89/120\n",
      "\u001b[1m360/360\u001b[0m \u001b[32m━━━━━━━━━━━━━━━━━━━━\u001b[0m\u001b[37m\u001b[0m \u001b[1m117s\u001b[0m 318ms/step - accuracy: 0.9349 - loss: 0.2040 - val_accuracy: 0.8729 - val_loss: 0.5769\n",
      "Epoch 90/120\n",
      "\u001b[1m360/360\u001b[0m \u001b[32m━━━━━━━━━━━━━━━━━━━━\u001b[0m\u001b[37m\u001b[0m \u001b[1m117s\u001b[0m 318ms/step - accuracy: 0.9376 - loss: 0.1935 - val_accuracy: 0.7215 - val_loss: 3.0791\n",
      "Epoch 91/120\n",
      "\u001b[1m360/360\u001b[0m \u001b[32m━━━━━━━━━━━━━━━━━━━━\u001b[0m\u001b[37m\u001b[0m \u001b[1m117s\u001b[0m 317ms/step - accuracy: 0.9329 - loss: 0.2111 - val_accuracy: 0.8215 - val_loss: 0.8475\n",
      "Epoch 92/120\n",
      "\u001b[1m360/360\u001b[0m \u001b[32m━━━━━━━━━━━━━━━━━━━━\u001b[0m\u001b[37m\u001b[0m \u001b[1m117s\u001b[0m 317ms/step - accuracy: 0.9269 - loss: 0.2292 - val_accuracy: 0.8292 - val_loss: 0.8904\n",
      "Epoch 93/120\n",
      "\u001b[1m360/360\u001b[0m \u001b[32m━━━━━━━━━━━━━━━━━━━━\u001b[0m\u001b[37m\u001b[0m \u001b[1m118s\u001b[0m 321ms/step - accuracy: 0.9323 - loss: 0.2107 - val_accuracy: 0.8278 - val_loss: 0.7408\n",
      "Epoch 94/120\n",
      "\u001b[1m360/360\u001b[0m \u001b[32m━━━━━━━━━━━━━━━━━━━━\u001b[0m\u001b[37m\u001b[0m \u001b[1m119s\u001b[0m 324ms/step - accuracy: 0.9269 - loss: 0.2239 - val_accuracy: 0.8562 - val_loss: 0.7086\n"
     ]
    }
   ],
   "source": [
    "history = model.fit(train_set, epochs=120, callbacks=[callback_stop, early_stopping], validation_data=validation_set)"
   ]
  },
  {
   "cell_type": "markdown",
   "id": "8fd53d36",
   "metadata": {
    "papermill": {
     "duration": 1.624558,
     "end_time": "2025-04-13T08:44:22.061953",
     "exception": false,
     "start_time": "2025-04-13T08:44:20.437395",
     "status": "completed"
    },
    "tags": []
   },
   "source": [
    "## Saving"
   ]
  },
  {
   "cell_type": "code",
   "execution_count": 14,
   "id": "8b6319ad",
   "metadata": {
    "execution": {
     "iopub.execute_input": "2025-04-13T08:44:25.263014Z",
     "iopub.status.busy": "2025-04-13T08:44:25.262716Z",
     "iopub.status.idle": "2025-04-13T08:44:25.499452Z",
     "shell.execute_reply": "2025-04-13T08:44:25.498588Z"
    },
    "papermill": {
     "duration": 1.840927,
     "end_time": "2025-04-13T08:44:25.501036",
     "exception": false,
     "start_time": "2025-04-13T08:44:23.660109",
     "status": "completed"
    },
    "tags": []
   },
   "outputs": [],
   "source": [
    "model.save('model.keras')\n",
    "model.save('model.h5')"
   ]
  },
  {
   "cell_type": "code",
   "execution_count": 15,
   "id": "2ef34f1e",
   "metadata": {
    "execution": {
     "iopub.execute_input": "2025-04-13T08:44:28.704858Z",
     "iopub.status.busy": "2025-04-13T08:44:28.704329Z",
     "iopub.status.idle": "2025-04-13T08:44:28.708418Z",
     "shell.execute_reply": "2025-04-13T08:44:28.707909Z"
    },
    "papermill": {
     "duration": 1.491434,
     "end_time": "2025-04-13T08:44:28.709373",
     "exception": false,
     "start_time": "2025-04-13T08:44:27.217939",
     "status": "completed"
    },
    "tags": []
   },
   "outputs": [],
   "source": [
    "with open('history.pkl', 'wb') as file:\n",
    "    pickle.dump(history.history, file)"
   ]
  },
  {
   "cell_type": "markdown",
   "id": "88f49490",
   "metadata": {
    "papermill": {
     "duration": 1.621006,
     "end_time": "2025-04-13T08:44:31.923623",
     "exception": false,
     "start_time": "2025-04-13T08:44:30.302617",
     "status": "completed"
    },
    "tags": []
   },
   "source": [
    "## Evaluate"
   ]
  },
  {
   "cell_type": "code",
   "execution_count": 16,
   "id": "36d74cbf",
   "metadata": {
    "execution": {
     "iopub.execute_input": "2025-04-13T08:44:35.140031Z",
     "iopub.status.busy": "2025-04-13T08:44:35.139293Z",
     "iopub.status.idle": "2025-04-13T08:44:35.143564Z",
     "shell.execute_reply": "2025-04-13T08:44:35.142827Z"
    },
    "papermill": {
     "duration": 1.626001,
     "end_time": "2025-04-13T08:44:35.144758",
     "exception": false,
     "start_time": "2025-04-13T08:44:33.518757",
     "status": "completed"
    },
    "tags": []
   },
   "outputs": [],
   "source": [
    "def evaluate(name_set, dataset):\n",
    "    print(f'\\n🔵 {name_set}')\n",
    "    loss, accuracy = model.evaluate(dataset)\n",
    "    print('accuracy: ', accuracy)\n",
    "    print('loss: ', loss)"
   ]
  },
  {
   "cell_type": "code",
   "execution_count": 17,
   "id": "933aad2d",
   "metadata": {
    "execution": {
     "iopub.execute_input": "2025-04-13T08:44:38.295058Z",
     "iopub.status.busy": "2025-04-13T08:44:38.294424Z",
     "iopub.status.idle": "2025-04-13T08:46:34.388200Z",
     "shell.execute_reply": "2025-04-13T08:46:34.387279Z"
    },
    "papermill": {
     "duration": 117.670653,
     "end_time": "2025-04-13T08:46:34.389633",
     "exception": false,
     "start_time": "2025-04-13T08:44:36.718980",
     "status": "completed"
    },
    "tags": []
   },
   "outputs": [
    {
     "name": "stdout",
     "output_type": "stream",
     "text": [
      "\n",
      "🔵 train_set\n",
      "\u001b[1m360/360\u001b[0m \u001b[32m━━━━━━━━━━━━━━━━━━━━\u001b[0m\u001b[37m\u001b[0m \u001b[1m115s\u001b[0m 321ms/step - accuracy: 0.9620 - loss: 0.1237\n",
      "accuracy:  0.9597285985946655\n",
      "loss:  0.12593244016170502\n"
     ]
    }
   ],
   "source": [
    "evaluate('train_set', train_set)"
   ]
  },
  {
   "cell_type": "code",
   "execution_count": 18,
   "id": "803b550d",
   "metadata": {
    "execution": {
     "iopub.execute_input": "2025-04-13T08:46:37.598057Z",
     "iopub.status.busy": "2025-04-13T08:46:37.597325Z",
     "iopub.status.idle": "2025-04-13T08:46:39.979303Z",
     "shell.execute_reply": "2025-04-13T08:46:39.978589Z"
    },
    "papermill": {
     "duration": 3.994908,
     "end_time": "2025-04-13T08:46:39.980411",
     "exception": false,
     "start_time": "2025-04-13T08:46:35.985503",
     "status": "completed"
    },
    "tags": []
   },
   "outputs": [
    {
     "name": "stdout",
     "output_type": "stream",
     "text": [
      "\n",
      "🔵 validation_set\n",
      "\u001b[1m45/45\u001b[0m \u001b[32m━━━━━━━━━━━━━━━━━━━━\u001b[0m\u001b[37m\u001b[0m \u001b[1m2s\u001b[0m 49ms/step - accuracy: 0.8826 - loss: 0.5272\n",
      "accuracy:  0.8784722089767456\n",
      "loss:  0.5430545210838318\n"
     ]
    }
   ],
   "source": [
    "evaluate('validation_set', validation_set)"
   ]
  },
  {
   "cell_type": "code",
   "execution_count": 19,
   "id": "7467b5c7",
   "metadata": {
    "execution": {
     "iopub.execute_input": "2025-04-13T08:46:43.349084Z",
     "iopub.status.busy": "2025-04-13T08:46:43.348802Z",
     "iopub.status.idle": "2025-04-13T08:46:47.459190Z",
     "shell.execute_reply": "2025-04-13T08:46:47.458439Z"
    },
    "papermill": {
     "duration": 5.852449,
     "end_time": "2025-04-13T08:46:47.460264",
     "exception": false,
     "start_time": "2025-04-13T08:46:41.607815",
     "status": "completed"
    },
    "tags": []
   },
   "outputs": [
    {
     "name": "stdout",
     "output_type": "stream",
     "text": [
      "\n",
      "🔵 test_set\n",
      "\u001b[1m45/45\u001b[0m \u001b[32m━━━━━━━━━━━━━━━━━━━━\u001b[0m\u001b[37m\u001b[0m \u001b[1m4s\u001b[0m 89ms/step - accuracy: 0.8535 - loss: 0.6258\n",
      "accuracy:  0.859734833240509\n",
      "loss:  0.6268041133880615\n"
     ]
    }
   ],
   "source": [
    "evaluate('test_set', test_set)"
   ]
  },
  {
   "cell_type": "markdown",
   "id": "70928e87",
   "metadata": {
    "papermill": {
     "duration": 1.748522,
     "end_time": "2025-04-13T08:46:50.714924",
     "exception": false,
     "start_time": "2025-04-13T08:46:48.966402",
     "status": "completed"
    },
    "tags": []
   },
   "source": [
    "## Visualize"
   ]
  },
  {
   "cell_type": "code",
   "execution_count": 20,
   "id": "870f8a0d",
   "metadata": {
    "execution": {
     "iopub.execute_input": "2025-04-13T08:46:53.940673Z",
     "iopub.status.busy": "2025-04-13T08:46:53.940314Z",
     "iopub.status.idle": "2025-04-13T08:46:53.944966Z",
     "shell.execute_reply": "2025-04-13T08:46:53.944256Z"
    },
    "papermill": {
     "duration": 1.610411,
     "end_time": "2025-04-13T08:46:53.946060",
     "exception": false,
     "start_time": "2025-04-13T08:46:52.335649",
     "status": "completed"
    },
    "tags": []
   },
   "outputs": [],
   "source": [
    "def visualize(name):\n",
    "    plt.figure(figsize=[15, 5])\n",
    "    plt.plot(history.history[name], label='train', marker='o')\n",
    "    plt.plot(history.history[f'val_{name}'], label='val', marker='o')\n",
    "\n",
    "    plt.title(name)\n",
    "    plt.xlabel('epoch')\n",
    "    plt.ylabel(name)\n",
    "\n",
    "    plt.grid()\n",
    "    plt.legend()\n",
    "    plt.show()"
   ]
  },
  {
   "cell_type": "code",
   "execution_count": 21,
   "id": "9ddced39",
   "metadata": {
    "execution": {
     "iopub.execute_input": "2025-04-13T08:46:57.169927Z",
     "iopub.status.busy": "2025-04-13T08:46:57.169295Z",
     "iopub.status.idle": "2025-04-13T08:46:57.357517Z",
     "shell.execute_reply": "2025-04-13T08:46:57.356782Z"
    },
    "papermill": {
     "duration": 1.797035,
     "end_time": "2025-04-13T08:46:57.358818",
     "exception": false,
     "start_time": "2025-04-13T08:46:55.561783",
     "status": "completed"
    },
    "tags": []
   },
   "outputs": [
    {
     "data": {
      "image/png": "[encoded data removed]",
      "text/plain": [
       "<Figure size 1500x500 with 1 Axes>"
      ]
     },
     "metadata": {},
     "output_type": "display_data"
    }
   ],
   "source": [
    "visualize('accuracy')"
   ]
  },
  {
   "cell_type": "code",
   "execution_count": 22,
   "id": "925e665b",
   "metadata": {
    "execution": {
     "iopub.execute_input": "2025-04-13T08:47:00.590689Z",
     "iopub.status.busy": "2025-04-13T08:47:00.590371Z",
     "iopub.status.idle": "2025-04-13T08:47:00.780291Z",
     "shell.execute_reply": "2025-04-13T08:47:00.779556Z"
    },
    "papermill": {
     "duration": 1.809696,
     "end_time": "2025-04-13T08:47:00.781513",
     "exception": false,
     "start_time": "2025-04-13T08:46:58.971817",
     "status": "completed"
    },
    "tags": []
   },
   "outputs": [
    {
     "data": {
      "image/png": "[encoded data removed]",
      "text/plain": [
       "<Figure size 1500x500 with 1 Axes>"
      ]
     },
     "metadata": {},
     "output_type": "display_data"
    }
   ],
   "source": [
    "visualize('loss')"
   ]
  }
 ],
 "metadata": {
  "accelerator": "GPU",
  "colab": {
   "authorship_tag": "ABX9TyNztqXpGw8fXJwC6KJFQwdh",
   "collapsed_sections": [
    "LBz6I4U65wEn"
   ],
   "gpuType": "T4",
   "provenance": []
  },
  "kaggle": {
   "accelerator": "gpu",
   "dataSources": [],
   "dockerImageVersionId": 31012,
   "isGpuEnabled": true,
   "isInternetEnabled": true,
   "language": "python",
   "sourceType": "notebook"
  },
  "kernelspec": {
   "display_name": "Python 3",
   "language": "python",
   "name": "python3"
  },
  "language_info": {
   "codemirror_mode": {
    "name": "ipython",
    "version": 3
   },
   "file_extension": ".py",
   "mimetype": "text/x-python",
   "name": "python",
   "nbconvert_exporter": "python",
   "pygments_lexer": "ipython3",
   "version": "3.11.11"
  },
  "papermill": {
   "default_parameters": {},
   "duration": 11242.462763,
   "end_time": "2025-04-13T08:47:17.274407",
   "environment_variables": {},
   "exception": true,
   "input_path": "__notebook__.ipynb",
   "output_path": "__notebook__.ipynb",
   "parameters": {},
   "start_time": "2025-04-13T05:39:54.811644",
   "version": "2.6.0"
  }
 },
 "nbformat": 4,
 "nbformat_minor": 5
}
