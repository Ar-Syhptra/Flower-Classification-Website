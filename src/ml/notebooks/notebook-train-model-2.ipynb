{
 "cells": [
  {
   "cell_type": "markdown",
   "id": "8d69385b",
   "metadata": {
    "id": "kmkyZ75Z1Xgb",
    "papermill": {
     "duration": 0.003995,
     "end_time": "2025-04-12T12:39:34.850371",
     "exception": false,
     "start_time": "2025-04-12T12:39:34.846376",
     "status": "completed"
    },
    "tags": []
   },
   "source": [
    "# Proyek Klasifikasi Bunga"
   ]
  },
  {
   "cell_type": "markdown",
   "id": "484ac31f",
   "metadata": {
    "id": "YtkSxsdF5r_2",
    "papermill": {
     "duration": 0.002946,
     "end_time": "2025-04-12T12:39:34.856746",
     "exception": false,
     "start_time": "2025-04-12T12:39:34.853800",
     "status": "completed"
    },
    "tags": []
   },
   "source": [
    "## Import Library"
   ]
  },
  {
   "cell_type": "code",
   "execution_count": 1,
   "id": "2137e96c",
   "metadata": {
    "execution": {
     "iopub.execute_input": "2025-04-12T12:39:34.864118Z",
     "iopub.status.busy": "2025-04-12T12:39:34.863863Z",
     "iopub.status.idle": "2025-04-12T12:39:50.569801Z",
     "shell.execute_reply": "2025-04-12T12:39:50.569169Z"
    },
    "id": "7Z-sssZl1LHl",
    "papermill": {
     "duration": 15.711229,
     "end_time": "2025-04-12T12:39:50.571140",
     "exception": false,
     "start_time": "2025-04-12T12:39:34.859911",
     "status": "completed"
    },
    "tags": []
   },
   "outputs": [
    {
     "name": "stderr",
     "output_type": "stream",
     "text": [
      "2025-04-12 12:39:36.370129: E external/local_xla/xla/stream_executor/cuda/cuda_fft.cc:477] Unable to register cuFFT factory: Attempting to register factory for plugin cuFFT when one has already been registered\n",
      "WARNING: All log messages before absl::InitializeLog() is called are written to STDERR\n",
      "E0000 00:00:1744461576.579331      19 cuda_dnn.cc:8310] Unable to register cuDNN factory: Attempting to register factory for plugin cuDNN when one has already been registered\n",
      "E0000 00:00:1744461576.634591      19 cuda_blas.cc:1418] Unable to register cuBLAS factory: Attempting to register factory for plugin cuBLAS when one has already been registered\n"
     ]
    }
   ],
   "source": [
    "import tensorflow as tf\n",
    "from tensorflow.keras import layers, models\n",
    "from tensorflow.keras.preprocessing.image import ImageDataGenerator\n",
    "from tensorflow.keras.callbacks import Callback, EarlyStopping\n",
    "\n",
    "from matplotlib import pyplot as plt\n",
    "\n",
    "import zipfile\n",
    "import pickle"
   ]
  },
  {
   "cell_type": "markdown",
   "id": "93b054c6",
   "metadata": {
    "id": "ZVM366-Q5ml5",
    "papermill": {
     "duration": 0.00311,
     "end_time": "2025-04-12T12:39:50.577993",
     "exception": false,
     "start_time": "2025-04-12T12:39:50.574883",
     "status": "completed"
    },
    "tags": []
   },
   "source": [
    "## Data Preparation"
   ]
  },
  {
   "cell_type": "markdown",
   "id": "eb6aecce",
   "metadata": {
    "id": "LBz6I4U65wEn",
    "papermill": {
     "duration": 0.003061,
     "end_time": "2025-04-12T12:39:50.584296",
     "exception": false,
     "start_time": "2025-04-12T12:39:50.581235",
     "status": "completed"
    },
    "tags": []
   },
   "source": [
    "### **Moving Data**"
   ]
  },
  {
   "cell_type": "code",
   "execution_count": 2,
   "id": "1395cfa3",
   "metadata": {
    "execution": {
     "iopub.execute_input": "2025-04-12T12:39:50.591878Z",
     "iopub.status.busy": "2025-04-12T12:39:50.591205Z",
     "iopub.status.idle": "2025-04-12T12:39:58.804583Z",
     "shell.execute_reply": "2025-04-12T12:39:58.803572Z"
    },
    "papermill": {
     "duration": 8.218729,
     "end_time": "2025-04-12T12:39:58.806090",
     "exception": false,
     "start_time": "2025-04-12T12:39:50.587361",
     "status": "completed"
    },
    "tags": []
   },
   "outputs": [
    {
     "name": "stdout",
     "output_type": "stream",
     "text": [
      "Downloading...\r\n",
      "From (original): https://drive.google.com/uc?id=1X8AiHCFOJ6B8Qw0LA9mzODqUj1S0u7P_\r\n",
      "From (redirected): https://drive.google.com/uc?id=1X8AiHCFOJ6B8Qw0LA9mzODqUj1S0u7P_&confirm=t&uuid=47239d78-01a5-4141-8b38-bbcdf5a26e84\r\n",
      "To: /kaggle/working/model-datasets-2.zip\r\n",
      "100%|████████████████████████████████████████| 292M/292M [00:03<00:00, 92.2MB/s]\r\n"
     ]
    }
   ],
   "source": [
    "!gdown 1X8AiHCFOJ6B8Qw0LA9mzODqUj1S0u7P_"
   ]
  },
  {
   "cell_type": "code",
   "execution_count": 3,
   "id": "ced37957",
   "metadata": {
    "execution": {
     "iopub.execute_input": "2025-04-12T12:39:58.816309Z",
     "iopub.status.busy": "2025-04-12T12:39:58.815721Z",
     "iopub.status.idle": "2025-04-12T12:39:58.947083Z",
     "shell.execute_reply": "2025-04-12T12:39:58.946144Z"
    },
    "id": "duMbHJI26WzG",
    "papermill": {
     "duration": 0.137934,
     "end_time": "2025-04-12T12:39:58.948610",
     "exception": false,
     "start_time": "2025-04-12T12:39:58.810676",
     "status": "completed"
    },
    "tags": []
   },
   "outputs": [],
   "source": [
    "!mkdir model-datasets"
   ]
  },
  {
   "cell_type": "code",
   "execution_count": 4,
   "id": "75e3725c",
   "metadata": {
    "execution": {
     "iopub.execute_input": "2025-04-12T12:39:58.958865Z",
     "iopub.status.busy": "2025-04-12T12:39:58.958149Z",
     "iopub.status.idle": "2025-04-12T12:40:01.305997Z",
     "shell.execute_reply": "2025-04-12T12:40:01.305430Z"
    },
    "id": "9m_SXcDo6ONt",
    "papermill": {
     "duration": 2.354309,
     "end_time": "2025-04-12T12:40:01.307336",
     "exception": false,
     "start_time": "2025-04-12T12:39:58.953027",
     "status": "completed"
    },
    "tags": []
   },
   "outputs": [],
   "source": [
    "zipfile.ZipFile('model-datasets-2.zip', 'r').extractall('model-datasets')"
   ]
  },
  {
   "cell_type": "code",
   "execution_count": 5,
   "id": "f2bb4482",
   "metadata": {
    "execution": {
     "iopub.execute_input": "2025-04-12T12:40:01.317464Z",
     "iopub.status.busy": "2025-04-12T12:40:01.316857Z",
     "iopub.status.idle": "2025-04-12T12:40:01.510745Z",
     "shell.execute_reply": "2025-04-12T12:40:01.509640Z"
    },
    "id": "3KYrd_TX6i_9",
    "papermill": {
     "duration": 0.200444,
     "end_time": "2025-04-12T12:40:01.512406",
     "exception": false,
     "start_time": "2025-04-12T12:40:01.311962",
     "status": "completed"
    },
    "tags": []
   },
   "outputs": [],
   "source": [
    "!rm model-datasets-2.zip"
   ]
  },
  {
   "cell_type": "markdown",
   "id": "df46bdfe",
   "metadata": {
    "id": "hMqWKgxU6zo1",
    "papermill": {
     "duration": 0.004055,
     "end_time": "2025-04-12T12:40:01.520974",
     "exception": false,
     "start_time": "2025-04-12T12:40:01.516919",
     "status": "completed"
    },
    "tags": []
   },
   "source": [
    "### **Data Loading**"
   ]
  },
  {
   "cell_type": "code",
   "execution_count": 6,
   "id": "5733abb8",
   "metadata": {
    "execution": {
     "iopub.execute_input": "2025-04-12T12:40:01.530901Z",
     "iopub.status.busy": "2025-04-12T12:40:01.530160Z",
     "iopub.status.idle": "2025-04-12T12:40:01.534718Z",
     "shell.execute_reply": "2025-04-12T12:40:01.534172Z"
    },
    "id": "NlQBGFU664aD",
    "papermill": {
     "duration": 0.010698,
     "end_time": "2025-04-12T12:40:01.535713",
     "exception": false,
     "start_time": "2025-04-12T12:40:01.525015",
     "status": "completed"
    },
    "tags": []
   },
   "outputs": [],
   "source": [
    "train_gen = ImageDataGenerator(\n",
    "    rescale            = 1/255,\n",
    "    rotation_range     = 0.15,\n",
    "    zoom_range         = 0.15,\n",
    "    shear_range        = 0.15,\n",
    "    horizontal_flip    = True,\n",
    "    width_shift_range  = 0.15,\n",
    "    height_shift_range = 0.15\n",
    ")\n",
    "\n",
    "test_gen = ImageDataGenerator(rescale=1/255)"
   ]
  },
  {
   "cell_type": "code",
   "execution_count": 7,
   "id": "06a5c186",
   "metadata": {
    "execution": {
     "iopub.execute_input": "2025-04-12T12:40:01.545089Z",
     "iopub.status.busy": "2025-04-12T12:40:01.544855Z",
     "iopub.status.idle": "2025-04-12T12:40:01.548318Z",
     "shell.execute_reply": "2025-04-12T12:40:01.547627Z"
    },
    "papermill": {
     "duration": 0.009392,
     "end_time": "2025-04-12T12:40:01.549473",
     "exception": false,
     "start_time": "2025-04-12T12:40:01.540081",
     "status": "completed"
    },
    "tags": []
   },
   "outputs": [],
   "source": [
    "dims = [224, 224]"
   ]
  },
  {
   "cell_type": "code",
   "execution_count": 8,
   "id": "d8297907",
   "metadata": {
    "execution": {
     "iopub.execute_input": "2025-04-12T12:40:01.558626Z",
     "iopub.status.busy": "2025-04-12T12:40:01.558390Z",
     "iopub.status.idle": "2025-04-12T12:40:02.166996Z",
     "shell.execute_reply": "2025-04-12T12:40:02.166262Z"
    },
    "executionInfo": {
     "elapsed": 195,
     "status": "ok",
     "timestamp": 1744359997741,
     "user": {
      "displayName": "Gibran Daffa",
      "userId": "06228686470629952402"
     },
     "user_tz": -420
    },
    "id": "KpkOO2T68IFp",
    "outputId": "53e99522-ee10-441f-fd80-ed8de068cd49",
    "papermill": {
     "duration": 0.614503,
     "end_time": "2025-04-12T12:40:02.168149",
     "exception": false,
     "start_time": "2025-04-12T12:40:01.553646",
     "status": "completed"
    },
    "tags": []
   },
   "outputs": [
    {
     "name": "stdout",
     "output_type": "stream",
     "text": [
      "Found 11497 images belonging to 37 classes.\n",
      "Found 1440 images belonging to 37 classes.\n",
      "Found 1433 images belonging to 37 classes.\n"
     ]
    }
   ],
   "source": [
    "train_set = train_gen.flow_from_directory(\n",
    "    directory   = 'model-datasets/train',\n",
    "    target_size = dims,\n",
    "    batch_size  = 32,\n",
    ")\n",
    "\n",
    "validation_set = test_gen.flow_from_directory(\n",
    "    directory   = 'model-datasets/validation',\n",
    "    target_size = dims,\n",
    "    batch_size  = 32,\n",
    ")\n",
    "\n",
    "test_set = test_gen.flow_from_directory(\n",
    "    directory   = 'model-datasets/test',\n",
    "    target_size = dims,\n",
    "    batch_size  = 32,\n",
    ")"
   ]
  },
  {
   "cell_type": "markdown",
   "id": "e89de1a7",
   "metadata": {
    "id": "9V-KHEHJ9wg0",
    "papermill": {
     "duration": 0.004208,
     "end_time": "2025-04-12T12:40:02.177567",
     "exception": false,
     "start_time": "2025-04-12T12:40:02.173359",
     "status": "completed"
    },
    "tags": []
   },
   "source": [
    "## Modeling"
   ]
  },
  {
   "cell_type": "markdown",
   "id": "e030ce04",
   "metadata": {
    "id": "q7PE9F9k_fvS",
    "papermill": {
     "duration": 0.004099,
     "end_time": "2025-04-12T12:40:02.185987",
     "exception": false,
     "start_time": "2025-04-12T12:40:02.181888",
     "status": "completed"
    },
    "tags": []
   },
   "source": [
    "### **Model**"
   ]
  },
  {
   "cell_type": "code",
   "execution_count": 9,
   "id": "7282468b",
   "metadata": {
    "execution": {
     "iopub.execute_input": "2025-04-12T12:40:02.196025Z",
     "iopub.status.busy": "2025-04-12T12:40:02.195213Z",
     "iopub.status.idle": "2025-04-12T12:40:04.661808Z",
     "shell.execute_reply": "2025-04-12T12:40:04.661218Z"
    },
    "id": "YjZI0yGa_Ele",
    "papermill": {
     "duration": 2.472765,
     "end_time": "2025-04-12T12:40:04.663037",
     "exception": false,
     "start_time": "2025-04-12T12:40:02.190272",
     "status": "completed"
    },
    "tags": []
   },
   "outputs": [
    {
     "name": "stderr",
     "output_type": "stream",
     "text": [
      "I0000 00:00:1744461603.412203      19 gpu_device.cc:2022] Created device /job:localhost/replica:0/task:0/device:GPU:0 with 15513 MB memory:  -> device: 0, name: Tesla P100-PCIE-16GB, pci bus id: 0000:00:04.0, compute capability: 6.0\n"
     ]
    }
   ],
   "source": [
    "model = models.Sequential([\n",
    "    layers.InputLayer(shape=[*dims, 3]),\n",
    "    layers.BatchNormalization(),\n",
    "\n",
    "    layers.Conv2D(32, (3, 3), activation='relu'),\n",
    "    layers.MaxPooling2D(),\n",
    "\n",
    "    layers.Conv2D(64, (3, 3), activation='relu'),\n",
    "    layers.MaxPooling2D(),\n",
    "\n",
    "    layers.Conv2D(128, (3, 3), activation='relu'),\n",
    "    layers.MaxPooling2D(),\n",
    "\n",
    "    layers.Conv2D(256, (3, 3), activation='relu'),\n",
    "    layers.MaxPooling2D(),\n",
    "\n",
    "    layers.Conv2D(512, (3, 3), activation='relu'),\n",
    "    layers.MaxPooling2D(),\n",
    "\n",
    "    layers.Flatten(),\n",
    "    layers.Dense(256, activation='relu'),\n",
    "    layers.Dropout(0.55),\n",
    "    layers.Dense(37, activation='softmax')\n",
    "])"
   ]
  },
  {
   "cell_type": "code",
   "execution_count": 10,
   "id": "2f92a3c2",
   "metadata": {
    "execution": {
     "iopub.execute_input": "2025-04-12T12:40:04.672864Z",
     "iopub.status.busy": "2025-04-12T12:40:04.672657Z",
     "iopub.status.idle": "2025-04-12T12:40:04.692207Z",
     "shell.execute_reply": "2025-04-12T12:40:04.691641Z"
    },
    "executionInfo": {
     "elapsed": 148,
     "status": "ok",
     "timestamp": 1744361610518,
     "user": {
      "displayName": "Gibran Daffa",
      "userId": "06228686470629952402"
     },
     "user_tz": -420
    },
    "id": "uiZgiKGT_MfC",
    "outputId": "e06d025b-7d80-4b51-f7d8-112327040a84",
    "papermill": {
     "duration": 0.025416,
     "end_time": "2025-04-12T12:40:04.693142",
     "exception": false,
     "start_time": "2025-04-12T12:40:04.667726",
     "status": "completed"
    },
    "tags": []
   },
   "outputs": [
    {
     "data": {
      "text/html": [
       "<pre style=\"white-space:pre;overflow-x:auto;line-height:normal;font-family:Menlo,'DejaVu Sans Mono',consolas,'Courier New',monospace\"><span style=\"font-weight: bold\">Model: \"sequential\"</span>\n",
       "</pre>\n"
      ],
      "text/plain": [
       "\u001b[1mModel: \"sequential\"\u001b[0m\n"
      ]
     },
     "metadata": {},
     "output_type": "display_data"
    },
    {
     "data": {
      "text/html": [
       "<pre style=\"white-space:pre;overflow-x:auto;line-height:normal;font-family:Menlo,'DejaVu Sans Mono',consolas,'Courier New',monospace\">┏━━━━━━━━━━━━━━━━━━━━━━━━━━━━━━━━━━━━━━┳━━━━━━━━━━━━━━━━━━━━━━━━━━━━━┳━━━━━━━━━━━━━━━━━┓\n",
       "┃<span style=\"font-weight: bold\"> Layer (type)                         </span>┃<span style=\"font-weight: bold\"> Output Shape                </span>┃<span style=\"font-weight: bold\">         Param # </span>┃\n",
       "┡━━━━━━━━━━━━━━━━━━━━━━━━━━━━━━━━━━━━━━╇━━━━━━━━━━━━━━━━━━━━━━━━━━━━━╇━━━━━━━━━━━━━━━━━┩\n",
       "│ batch_normalization                  │ (<span style=\"color: #00d7ff; text-decoration-color: #00d7ff\">None</span>, <span style=\"color: #00af00; text-decoration-color: #00af00\">224</span>, <span style=\"color: #00af00; text-decoration-color: #00af00\">224</span>, <span style=\"color: #00af00; text-decoration-color: #00af00\">3</span>)         │              <span style=\"color: #00af00; text-decoration-color: #00af00\">12</span> │\n",
       "│ (<span style=\"color: #0087ff; text-decoration-color: #0087ff\">BatchNormalization</span>)                 │                             │                 │\n",
       "├──────────────────────────────────────┼─────────────────────────────┼─────────────────┤\n",
       "│ conv2d (<span style=\"color: #0087ff; text-decoration-color: #0087ff\">Conv2D</span>)                      │ (<span style=\"color: #00d7ff; text-decoration-color: #00d7ff\">None</span>, <span style=\"color: #00af00; text-decoration-color: #00af00\">222</span>, <span style=\"color: #00af00; text-decoration-color: #00af00\">222</span>, <span style=\"color: #00af00; text-decoration-color: #00af00\">32</span>)        │             <span style=\"color: #00af00; text-decoration-color: #00af00\">896</span> │\n",
       "├──────────────────────────────────────┼─────────────────────────────┼─────────────────┤\n",
       "│ max_pooling2d (<span style=\"color: #0087ff; text-decoration-color: #0087ff\">MaxPooling2D</span>)         │ (<span style=\"color: #00d7ff; text-decoration-color: #00d7ff\">None</span>, <span style=\"color: #00af00; text-decoration-color: #00af00\">111</span>, <span style=\"color: #00af00; text-decoration-color: #00af00\">111</span>, <span style=\"color: #00af00; text-decoration-color: #00af00\">32</span>)        │               <span style=\"color: #00af00; text-decoration-color: #00af00\">0</span> │\n",
       "├──────────────────────────────────────┼─────────────────────────────┼─────────────────┤\n",
       "│ conv2d_1 (<span style=\"color: #0087ff; text-decoration-color: #0087ff\">Conv2D</span>)                    │ (<span style=\"color: #00d7ff; text-decoration-color: #00d7ff\">None</span>, <span style=\"color: #00af00; text-decoration-color: #00af00\">109</span>, <span style=\"color: #00af00; text-decoration-color: #00af00\">109</span>, <span style=\"color: #00af00; text-decoration-color: #00af00\">64</span>)        │          <span style=\"color: #00af00; text-decoration-color: #00af00\">18,496</span> │\n",
       "├──────────────────────────────────────┼─────────────────────────────┼─────────────────┤\n",
       "│ max_pooling2d_1 (<span style=\"color: #0087ff; text-decoration-color: #0087ff\">MaxPooling2D</span>)       │ (<span style=\"color: #00d7ff; text-decoration-color: #00d7ff\">None</span>, <span style=\"color: #00af00; text-decoration-color: #00af00\">54</span>, <span style=\"color: #00af00; text-decoration-color: #00af00\">54</span>, <span style=\"color: #00af00; text-decoration-color: #00af00\">64</span>)          │               <span style=\"color: #00af00; text-decoration-color: #00af00\">0</span> │\n",
       "├──────────────────────────────────────┼─────────────────────────────┼─────────────────┤\n",
       "│ conv2d_2 (<span style=\"color: #0087ff; text-decoration-color: #0087ff\">Conv2D</span>)                    │ (<span style=\"color: #00d7ff; text-decoration-color: #00d7ff\">None</span>, <span style=\"color: #00af00; text-decoration-color: #00af00\">52</span>, <span style=\"color: #00af00; text-decoration-color: #00af00\">52</span>, <span style=\"color: #00af00; text-decoration-color: #00af00\">128</span>)         │          <span style=\"color: #00af00; text-decoration-color: #00af00\">73,856</span> │\n",
       "├──────────────────────────────────────┼─────────────────────────────┼─────────────────┤\n",
       "│ max_pooling2d_2 (<span style=\"color: #0087ff; text-decoration-color: #0087ff\">MaxPooling2D</span>)       │ (<span style=\"color: #00d7ff; text-decoration-color: #00d7ff\">None</span>, <span style=\"color: #00af00; text-decoration-color: #00af00\">26</span>, <span style=\"color: #00af00; text-decoration-color: #00af00\">26</span>, <span style=\"color: #00af00; text-decoration-color: #00af00\">128</span>)         │               <span style=\"color: #00af00; text-decoration-color: #00af00\">0</span> │\n",
       "├──────────────────────────────────────┼─────────────────────────────┼─────────────────┤\n",
       "│ conv2d_3 (<span style=\"color: #0087ff; text-decoration-color: #0087ff\">Conv2D</span>)                    │ (<span style=\"color: #00d7ff; text-decoration-color: #00d7ff\">None</span>, <span style=\"color: #00af00; text-decoration-color: #00af00\">24</span>, <span style=\"color: #00af00; text-decoration-color: #00af00\">24</span>, <span style=\"color: #00af00; text-decoration-color: #00af00\">256</span>)         │         <span style=\"color: #00af00; text-decoration-color: #00af00\">295,168</span> │\n",
       "├──────────────────────────────────────┼─────────────────────────────┼─────────────────┤\n",
       "│ max_pooling2d_3 (<span style=\"color: #0087ff; text-decoration-color: #0087ff\">MaxPooling2D</span>)       │ (<span style=\"color: #00d7ff; text-decoration-color: #00d7ff\">None</span>, <span style=\"color: #00af00; text-decoration-color: #00af00\">12</span>, <span style=\"color: #00af00; text-decoration-color: #00af00\">12</span>, <span style=\"color: #00af00; text-decoration-color: #00af00\">256</span>)         │               <span style=\"color: #00af00; text-decoration-color: #00af00\">0</span> │\n",
       "├──────────────────────────────────────┼─────────────────────────────┼─────────────────┤\n",
       "│ conv2d_4 (<span style=\"color: #0087ff; text-decoration-color: #0087ff\">Conv2D</span>)                    │ (<span style=\"color: #00d7ff; text-decoration-color: #00d7ff\">None</span>, <span style=\"color: #00af00; text-decoration-color: #00af00\">10</span>, <span style=\"color: #00af00; text-decoration-color: #00af00\">10</span>, <span style=\"color: #00af00; text-decoration-color: #00af00\">512</span>)         │       <span style=\"color: #00af00; text-decoration-color: #00af00\">1,180,160</span> │\n",
       "├──────────────────────────────────────┼─────────────────────────────┼─────────────────┤\n",
       "│ max_pooling2d_4 (<span style=\"color: #0087ff; text-decoration-color: #0087ff\">MaxPooling2D</span>)       │ (<span style=\"color: #00d7ff; text-decoration-color: #00d7ff\">None</span>, <span style=\"color: #00af00; text-decoration-color: #00af00\">5</span>, <span style=\"color: #00af00; text-decoration-color: #00af00\">5</span>, <span style=\"color: #00af00; text-decoration-color: #00af00\">512</span>)           │               <span style=\"color: #00af00; text-decoration-color: #00af00\">0</span> │\n",
       "├──────────────────────────────────────┼─────────────────────────────┼─────────────────┤\n",
       "│ flatten (<span style=\"color: #0087ff; text-decoration-color: #0087ff\">Flatten</span>)                    │ (<span style=\"color: #00d7ff; text-decoration-color: #00d7ff\">None</span>, <span style=\"color: #00af00; text-decoration-color: #00af00\">12800</span>)               │               <span style=\"color: #00af00; text-decoration-color: #00af00\">0</span> │\n",
       "├──────────────────────────────────────┼─────────────────────────────┼─────────────────┤\n",
       "│ dense (<span style=\"color: #0087ff; text-decoration-color: #0087ff\">Dense</span>)                        │ (<span style=\"color: #00d7ff; text-decoration-color: #00d7ff\">None</span>, <span style=\"color: #00af00; text-decoration-color: #00af00\">256</span>)                 │       <span style=\"color: #00af00; text-decoration-color: #00af00\">3,277,056</span> │\n",
       "├──────────────────────────────────────┼─────────────────────────────┼─────────────────┤\n",
       "│ dropout (<span style=\"color: #0087ff; text-decoration-color: #0087ff\">Dropout</span>)                    │ (<span style=\"color: #00d7ff; text-decoration-color: #00d7ff\">None</span>, <span style=\"color: #00af00; text-decoration-color: #00af00\">256</span>)                 │               <span style=\"color: #00af00; text-decoration-color: #00af00\">0</span> │\n",
       "├──────────────────────────────────────┼─────────────────────────────┼─────────────────┤\n",
       "│ dense_1 (<span style=\"color: #0087ff; text-decoration-color: #0087ff\">Dense</span>)                      │ (<span style=\"color: #00d7ff; text-decoration-color: #00d7ff\">None</span>, <span style=\"color: #00af00; text-decoration-color: #00af00\">37</span>)                  │           <span style=\"color: #00af00; text-decoration-color: #00af00\">9,509</span> │\n",
       "└──────────────────────────────────────┴─────────────────────────────┴─────────────────┘\n",
       "</pre>\n"
      ],
      "text/plain": [
       "┏━━━━━━━━━━━━━━━━━━━━━━━━━━━━━━━━━━━━━━┳━━━━━━━━━━━━━━━━━━━━━━━━━━━━━┳━━━━━━━━━━━━━━━━━┓\n",
       "┃\u001b[1m \u001b[0m\u001b[1mLayer (type)                        \u001b[0m\u001b[1m \u001b[0m┃\u001b[1m \u001b[0m\u001b[1mOutput Shape               \u001b[0m\u001b[1m \u001b[0m┃\u001b[1m \u001b[0m\u001b[1m        Param #\u001b[0m\u001b[1m \u001b[0m┃\n",
       "┡━━━━━━━━━━━━━━━━━━━━━━━━━━━━━━━━━━━━━━╇━━━━━━━━━━━━━━━━━━━━━━━━━━━━━╇━━━━━━━━━━━━━━━━━┩\n",
       "│ batch_normalization                  │ (\u001b[38;5;45mNone\u001b[0m, \u001b[38;5;34m224\u001b[0m, \u001b[38;5;34m224\u001b[0m, \u001b[38;5;34m3\u001b[0m)         │              \u001b[38;5;34m12\u001b[0m │\n",
       "│ (\u001b[38;5;33mBatchNormalization\u001b[0m)                 │                             │                 │\n",
       "├──────────────────────────────────────┼─────────────────────────────┼─────────────────┤\n",
       "│ conv2d (\u001b[38;5;33mConv2D\u001b[0m)                      │ (\u001b[38;5;45mNone\u001b[0m, \u001b[38;5;34m222\u001b[0m, \u001b[38;5;34m222\u001b[0m, \u001b[38;5;34m32\u001b[0m)        │             \u001b[38;5;34m896\u001b[0m │\n",
       "├──────────────────────────────────────┼─────────────────────────────┼─────────────────┤\n",
       "│ max_pooling2d (\u001b[38;5;33mMaxPooling2D\u001b[0m)         │ (\u001b[38;5;45mNone\u001b[0m, \u001b[38;5;34m111\u001b[0m, \u001b[38;5;34m111\u001b[0m, \u001b[38;5;34m32\u001b[0m)        │               \u001b[38;5;34m0\u001b[0m │\n",
       "├──────────────────────────────────────┼─────────────────────────────┼─────────────────┤\n",
       "│ conv2d_1 (\u001b[38;5;33mConv2D\u001b[0m)                    │ (\u001b[38;5;45mNone\u001b[0m, \u001b[38;5;34m109\u001b[0m, \u001b[38;5;34m109\u001b[0m, \u001b[38;5;34m64\u001b[0m)        │          \u001b[38;5;34m18,496\u001b[0m │\n",
       "├──────────────────────────────────────┼─────────────────────────────┼─────────────────┤\n",
       "│ max_pooling2d_1 (\u001b[38;5;33mMaxPooling2D\u001b[0m)       │ (\u001b[38;5;45mNone\u001b[0m, \u001b[38;5;34m54\u001b[0m, \u001b[38;5;34m54\u001b[0m, \u001b[38;5;34m64\u001b[0m)          │               \u001b[38;5;34m0\u001b[0m │\n",
       "├──────────────────────────────────────┼─────────────────────────────┼─────────────────┤\n",
       "│ conv2d_2 (\u001b[38;5;33mConv2D\u001b[0m)                    │ (\u001b[38;5;45mNone\u001b[0m, \u001b[38;5;34m52\u001b[0m, \u001b[38;5;34m52\u001b[0m, \u001b[38;5;34m128\u001b[0m)         │          \u001b[38;5;34m73,856\u001b[0m │\n",
       "├──────────────────────────────────────┼─────────────────────────────┼─────────────────┤\n",
       "│ max_pooling2d_2 (\u001b[38;5;33mMaxPooling2D\u001b[0m)       │ (\u001b[38;5;45mNone\u001b[0m, \u001b[38;5;34m26\u001b[0m, \u001b[38;5;34m26\u001b[0m, \u001b[38;5;34m128\u001b[0m)         │               \u001b[38;5;34m0\u001b[0m │\n",
       "├──────────────────────────────────────┼─────────────────────────────┼─────────────────┤\n",
       "│ conv2d_3 (\u001b[38;5;33mConv2D\u001b[0m)                    │ (\u001b[38;5;45mNone\u001b[0m, \u001b[38;5;34m24\u001b[0m, \u001b[38;5;34m24\u001b[0m, \u001b[38;5;34m256\u001b[0m)         │         \u001b[38;5;34m295,168\u001b[0m │\n",
       "├──────────────────────────────────────┼─────────────────────────────┼─────────────────┤\n",
       "│ max_pooling2d_3 (\u001b[38;5;33mMaxPooling2D\u001b[0m)       │ (\u001b[38;5;45mNone\u001b[0m, \u001b[38;5;34m12\u001b[0m, \u001b[38;5;34m12\u001b[0m, \u001b[38;5;34m256\u001b[0m)         │               \u001b[38;5;34m0\u001b[0m │\n",
       "├──────────────────────────────────────┼─────────────────────────────┼─────────────────┤\n",
       "│ conv2d_4 (\u001b[38;5;33mConv2D\u001b[0m)                    │ (\u001b[38;5;45mNone\u001b[0m, \u001b[38;5;34m10\u001b[0m, \u001b[38;5;34m10\u001b[0m, \u001b[38;5;34m512\u001b[0m)         │       \u001b[38;5;34m1,180,160\u001b[0m │\n",
       "├──────────────────────────────────────┼─────────────────────────────┼─────────────────┤\n",
       "│ max_pooling2d_4 (\u001b[38;5;33mMaxPooling2D\u001b[0m)       │ (\u001b[38;5;45mNone\u001b[0m, \u001b[38;5;34m5\u001b[0m, \u001b[38;5;34m5\u001b[0m, \u001b[38;5;34m512\u001b[0m)           │               \u001b[38;5;34m0\u001b[0m │\n",
       "├──────────────────────────────────────┼─────────────────────────────┼─────────────────┤\n",
       "│ flatten (\u001b[38;5;33mFlatten\u001b[0m)                    │ (\u001b[38;5;45mNone\u001b[0m, \u001b[38;5;34m12800\u001b[0m)               │               \u001b[38;5;34m0\u001b[0m │\n",
       "├──────────────────────────────────────┼─────────────────────────────┼─────────────────┤\n",
       "│ dense (\u001b[38;5;33mDense\u001b[0m)                        │ (\u001b[38;5;45mNone\u001b[0m, \u001b[38;5;34m256\u001b[0m)                 │       \u001b[38;5;34m3,277,056\u001b[0m │\n",
       "├──────────────────────────────────────┼─────────────────────────────┼─────────────────┤\n",
       "│ dropout (\u001b[38;5;33mDropout\u001b[0m)                    │ (\u001b[38;5;45mNone\u001b[0m, \u001b[38;5;34m256\u001b[0m)                 │               \u001b[38;5;34m0\u001b[0m │\n",
       "├──────────────────────────────────────┼─────────────────────────────┼─────────────────┤\n",
       "│ dense_1 (\u001b[38;5;33mDense\u001b[0m)                      │ (\u001b[38;5;45mNone\u001b[0m, \u001b[38;5;34m37\u001b[0m)                  │           \u001b[38;5;34m9,509\u001b[0m │\n",
       "└──────────────────────────────────────┴─────────────────────────────┴─────────────────┘\n"
      ]
     },
     "metadata": {},
     "output_type": "display_data"
    },
    {
     "data": {
      "text/html": [
       "<pre style=\"white-space:pre;overflow-x:auto;line-height:normal;font-family:Menlo,'DejaVu Sans Mono',consolas,'Courier New',monospace\"><span style=\"font-weight: bold\"> Total params: </span><span style=\"color: #00af00; text-decoration-color: #00af00\">4,855,153</span> (18.52 MB)\n",
       "</pre>\n"
      ],
      "text/plain": [
       "\u001b[1m Total params: \u001b[0m\u001b[38;5;34m4,855,153\u001b[0m (18.52 MB)\n"
      ]
     },
     "metadata": {},
     "output_type": "display_data"
    },
    {
     "data": {
      "text/html": [
       "<pre style=\"white-space:pre;overflow-x:auto;line-height:normal;font-family:Menlo,'DejaVu Sans Mono',consolas,'Courier New',monospace\"><span style=\"font-weight: bold\"> Trainable params: </span><span style=\"color: #00af00; text-decoration-color: #00af00\">4,855,147</span> (18.52 MB)\n",
       "</pre>\n"
      ],
      "text/plain": [
       "\u001b[1m Trainable params: \u001b[0m\u001b[38;5;34m4,855,147\u001b[0m (18.52 MB)\n"
      ]
     },
     "metadata": {},
     "output_type": "display_data"
    },
    {
     "data": {
      "text/html": [
       "<pre style=\"white-space:pre;overflow-x:auto;line-height:normal;font-family:Menlo,'DejaVu Sans Mono',consolas,'Courier New',monospace\"><span style=\"font-weight: bold\"> Non-trainable params: </span><span style=\"color: #00af00; text-decoration-color: #00af00\">6</span> (24.00 B)\n",
       "</pre>\n"
      ],
      "text/plain": [
       "\u001b[1m Non-trainable params: \u001b[0m\u001b[38;5;34m6\u001b[0m (24.00 B)\n"
      ]
     },
     "metadata": {},
     "output_type": "display_data"
    }
   ],
   "source": [
    "model.summary()"
   ]
  },
  {
   "cell_type": "code",
   "execution_count": 11,
   "id": "3ec714e0",
   "metadata": {
    "execution": {
     "iopub.execute_input": "2025-04-12T12:40:04.703831Z",
     "iopub.status.busy": "2025-04-12T12:40:04.703637Z",
     "iopub.status.idle": "2025-04-12T12:40:04.715333Z",
     "shell.execute_reply": "2025-04-12T12:40:04.714628Z"
    },
    "id": "cT0r7dW2_Qyp",
    "papermill": {
     "duration": 0.018242,
     "end_time": "2025-04-12T12:40:04.716454",
     "exception": false,
     "start_time": "2025-04-12T12:40:04.698212",
     "status": "completed"
    },
    "tags": []
   },
   "outputs": [],
   "source": [
    "model.compile(\n",
    "    optimizer = 'adam',\n",
    "    loss      = 'categorical_crossentropy',\n",
    "    metrics   = ['accuracy']\n",
    ")"
   ]
  },
  {
   "cell_type": "markdown",
   "id": "fbf12a19",
   "metadata": {
    "id": "XvMi7dLl_jKq",
    "papermill": {
     "duration": 0.004553,
     "end_time": "2025-04-12T12:40:04.725915",
     "exception": false,
     "start_time": "2025-04-12T12:40:04.721362",
     "status": "completed"
    },
    "tags": []
   },
   "source": [
    "### **Callbacks**"
   ]
  },
  {
   "cell_type": "code",
   "execution_count": 12,
   "id": "7755cbad",
   "metadata": {
    "execution": {
     "iopub.execute_input": "2025-04-12T12:40:04.736241Z",
     "iopub.status.busy": "2025-04-12T12:40:04.735969Z",
     "iopub.status.idle": "2025-04-12T12:40:04.740410Z",
     "shell.execute_reply": "2025-04-12T12:40:04.739728Z"
    },
    "id": "rpy-W246_mZI",
    "papermill": {
     "duration": 0.010862,
     "end_time": "2025-04-12T12:40:04.741498",
     "exception": false,
     "start_time": "2025-04-12T12:40:04.730636",
     "status": "completed"
    },
    "tags": []
   },
   "outputs": [],
   "source": [
    "accuracy_min = 0.9\n",
    "class CallbackStop(Callback):\n",
    "    def on_epoch_end(self, epoch, logs={}):\n",
    "        if logs.get('val_accuracy') > accuracy_min:\n",
    "            print(f'\\n✅ Akurasi telah mencapai {accuracy_min}')\n",
    "            self.model.stop_training = True\n",
    "\n",
    "callback_stop  = CallbackStop()\n",
    "early_stopping = EarlyStopping(monitor='val_accuracy', patience=10, restore_best_weights=True, mode='max')"
   ]
  },
  {
   "cell_type": "markdown",
   "id": "f36cb67d",
   "metadata": {
    "id": "XxOGepSdAn81",
    "papermill": {
     "duration": 0.004472,
     "end_time": "2025-04-12T12:40:04.750751",
     "exception": false,
     "start_time": "2025-04-12T12:40:04.746279",
     "status": "completed"
    },
    "tags": []
   },
   "source": [
    "### **Training**"
   ]
  },
  {
   "cell_type": "code",
   "execution_count": 13,
   "id": "6c3f550d",
   "metadata": {
    "execution": {
     "iopub.execute_input": "2025-04-12T12:40:04.760913Z",
     "iopub.status.busy": "2025-04-12T12:40:04.760677Z",
     "iopub.status.idle": "2025-04-12T14:04:14.008133Z",
     "shell.execute_reply": "2025-04-12T14:04:14.007538Z"
    },
    "id": "3pMRCPgEAm6O",
    "outputId": "f6c13888-acbf-4a03-eba4-5a970f93460e",
    "papermill": {
     "duration": 5049.254154,
     "end_time": "2025-04-12T14:04:14.009591",
     "exception": false,
     "start_time": "2025-04-12T12:40:04.755437",
     "status": "completed"
    },
    "tags": []
   },
   "outputs": [
    {
     "name": "stdout",
     "output_type": "stream",
     "text": [
      "Epoch 1/200\n"
     ]
    },
    {
     "name": "stderr",
     "output_type": "stream",
     "text": [
      "/usr/local/lib/python3.11/dist-packages/keras/src/trainers/data_adapters/py_dataset_adapter.py:122: UserWarning: Your `PyDataset` class should call `super().__init__(**kwargs)` in its constructor. `**kwargs` can include `workers`, `use_multiprocessing`, `max_queue_size`. Do not pass these arguments to `fit()`, as they will be ignored.\n",
      "  self._warn_if_super_not_called()\n",
      "WARNING: All log messages before absl::InitializeLog() is called are written to STDERR\n",
      "I0000 00:00:1744461611.710072      83 service.cc:148] XLA service 0x7bf30c011d30 initialized for platform CUDA (this does not guarantee that XLA will be used). Devices:\n",
      "I0000 00:00:1744461611.710782      83 service.cc:156]   StreamExecutor device (0): Tesla P100-PCIE-16GB, Compute Capability 6.0\n",
      "I0000 00:00:1744461612.245228      83 cuda_dnn.cc:529] Loaded cuDNN version 90300\n"
     ]
    },
    {
     "name": "stdout",
     "output_type": "stream",
     "text": [
      "\u001b[1m  1/360\u001b[0m \u001b[37m━━━━━━━━━━━━━━━━━━━━\u001b[0m \u001b[1m1:14:46\u001b[0m 12s/step - accuracy: 0.0625 - loss: 3.5870"
     ]
    },
    {
     "name": "stderr",
     "output_type": "stream",
     "text": [
      "I0000 00:00:1744461617.981250      83 device_compiler.h:188] Compiled cluster using XLA!  This line is logged at most once for the lifetime of the process.\n"
     ]
    },
    {
     "name": "stdout",
     "output_type": "stream",
     "text": [
      "\u001b[1m360/360\u001b[0m \u001b[32m━━━━━━━━━━━━━━━━━━━━\u001b[0m\u001b[37m\u001b[0m \u001b[1m134s\u001b[0m 338ms/step - accuracy: 0.0618 - loss: 3.4861 - val_accuracy: 0.2056 - val_loss: 2.8408\n",
      "Epoch 2/200\n",
      "\u001b[1m360/360\u001b[0m \u001b[32m━━━━━━━━━━━━━━━━━━━━\u001b[0m\u001b[37m\u001b[0m \u001b[1m119s\u001b[0m 323ms/step - accuracy: 0.1806 - loss: 2.8621 - val_accuracy: 0.3382 - val_loss: 2.3245\n",
      "Epoch 3/200\n",
      "\u001b[1m360/360\u001b[0m \u001b[32m━━━━━━━━━━━━━━━━━━━━\u001b[0m\u001b[37m\u001b[0m \u001b[1m121s\u001b[0m 329ms/step - accuracy: 0.2698 - loss: 2.5484 - val_accuracy: 0.3590 - val_loss: 2.2565\n",
      "Epoch 4/200\n",
      "\u001b[1m360/360\u001b[0m \u001b[32m━━━━━━━━━━━━━━━━━━━━\u001b[0m\u001b[37m\u001b[0m \u001b[1m118s\u001b[0m 323ms/step - accuracy: 0.3076 - loss: 2.3730 - val_accuracy: 0.4458 - val_loss: 1.9490\n",
      "Epoch 5/200\n",
      "\u001b[1m360/360\u001b[0m \u001b[32m━━━━━━━━━━━━━━━━━━━━\u001b[0m\u001b[37m\u001b[0m \u001b[1m118s\u001b[0m 321ms/step - accuracy: 0.3606 - loss: 2.1855 - val_accuracy: 0.4792 - val_loss: 1.7849\n",
      "Epoch 6/200\n",
      "\u001b[1m360/360\u001b[0m \u001b[32m━━━━━━━━━━━━━━━━━━━━\u001b[0m\u001b[37m\u001b[0m \u001b[1m118s\u001b[0m 321ms/step - accuracy: 0.4018 - loss: 2.0699 - val_accuracy: 0.5132 - val_loss: 1.6933\n",
      "Epoch 7/200\n",
      "\u001b[1m360/360\u001b[0m \u001b[32m━━━━━━━━━━━━━━━━━━━━\u001b[0m\u001b[37m\u001b[0m \u001b[1m117s\u001b[0m 320ms/step - accuracy: 0.4422 - loss: 1.9146 - val_accuracy: 0.5299 - val_loss: 1.6539\n",
      "Epoch 8/200\n",
      "\u001b[1m360/360\u001b[0m \u001b[32m━━━━━━━━━━━━━━━━━━━━\u001b[0m\u001b[37m\u001b[0m \u001b[1m117s\u001b[0m 318ms/step - accuracy: 0.4646 - loss: 1.8480 - val_accuracy: 0.5375 - val_loss: 1.5963\n",
      "Epoch 9/200\n",
      "\u001b[1m360/360\u001b[0m \u001b[32m━━━━━━━━━━━━━━━━━━━━\u001b[0m\u001b[37m\u001b[0m \u001b[1m118s\u001b[0m 322ms/step - accuracy: 0.5012 - loss: 1.7334 - val_accuracy: 0.5771 - val_loss: 1.5237\n",
      "Epoch 10/200\n",
      "\u001b[1m360/360\u001b[0m \u001b[32m━━━━━━━━━━━━━━━━━━━━\u001b[0m\u001b[37m\u001b[0m \u001b[1m117s\u001b[0m 320ms/step - accuracy: 0.5270 - loss: 1.6299 - val_accuracy: 0.5542 - val_loss: 1.5870\n",
      "Epoch 11/200\n",
      "\u001b[1m360/360\u001b[0m \u001b[32m━━━━━━━━━━━━━━━━━━━━\u001b[0m\u001b[37m\u001b[0m \u001b[1m117s\u001b[0m 320ms/step - accuracy: 0.5352 - loss: 1.6101 - val_accuracy: 0.6132 - val_loss: 1.3959\n",
      "Epoch 12/200\n",
      "\u001b[1m360/360\u001b[0m \u001b[32m━━━━━━━━━━━━━━━━━━━━\u001b[0m\u001b[37m\u001b[0m \u001b[1m115s\u001b[0m 315ms/step - accuracy: 0.5597 - loss: 1.5221 - val_accuracy: 0.6097 - val_loss: 1.3768\n",
      "Epoch 13/200\n",
      "\u001b[1m360/360\u001b[0m \u001b[32m━━━━━━━━━━━━━━━━━━━━\u001b[0m\u001b[37m\u001b[0m \u001b[1m118s\u001b[0m 320ms/step - accuracy: 0.5843 - loss: 1.4580 - val_accuracy: 0.6562 - val_loss: 1.2825\n",
      "Epoch 14/200\n",
      "\u001b[1m360/360\u001b[0m \u001b[32m━━━━━━━━━━━━━━━━━━━━\u001b[0m\u001b[37m\u001b[0m \u001b[1m117s\u001b[0m 319ms/step - accuracy: 0.5991 - loss: 1.3645 - val_accuracy: 0.6562 - val_loss: 1.2791\n",
      "Epoch 15/200\n",
      "\u001b[1m360/360\u001b[0m \u001b[32m━━━━━━━━━━━━━━━━━━━━\u001b[0m\u001b[37m\u001b[0m \u001b[1m117s\u001b[0m 318ms/step - accuracy: 0.6156 - loss: 1.3113 - val_accuracy: 0.6611 - val_loss: 1.2843\n",
      "Epoch 16/200\n",
      "\u001b[1m360/360\u001b[0m \u001b[32m━━━━━━━━━━━━━━━━━━━━\u001b[0m\u001b[37m\u001b[0m \u001b[1m117s\u001b[0m 318ms/step - accuracy: 0.6227 - loss: 1.2670 - val_accuracy: 0.6507 - val_loss: 1.3510\n",
      "Epoch 17/200\n",
      "\u001b[1m360/360\u001b[0m \u001b[32m━━━━━━━━━━━━━━━━━━━━\u001b[0m\u001b[37m\u001b[0m \u001b[1m116s\u001b[0m 315ms/step - accuracy: 0.6287 - loss: 1.2585 - val_accuracy: 0.6833 - val_loss: 1.1298\n",
      "Epoch 18/200\n",
      "\u001b[1m360/360\u001b[0m \u001b[32m━━━━━━━━━━━━━━━━━━━━\u001b[0m\u001b[37m\u001b[0m \u001b[1m117s\u001b[0m 318ms/step - accuracy: 0.6459 - loss: 1.1911 - val_accuracy: 0.6715 - val_loss: 1.2391\n",
      "Epoch 19/200\n",
      "\u001b[1m360/360\u001b[0m \u001b[32m━━━━━━━━━━━━━━━━━━━━\u001b[0m\u001b[37m\u001b[0m \u001b[1m117s\u001b[0m 319ms/step - accuracy: 0.6530 - loss: 1.1657 - val_accuracy: 0.6854 - val_loss: 1.1640\n",
      "Epoch 20/200\n",
      "\u001b[1m360/360\u001b[0m \u001b[32m━━━━━━━━━━━━━━━━━━━━\u001b[0m\u001b[37m\u001b[0m \u001b[1m115s\u001b[0m 313ms/step - accuracy: 0.6697 - loss: 1.1325 - val_accuracy: 0.6806 - val_loss: 1.1645\n",
      "Epoch 21/200\n",
      "\u001b[1m360/360\u001b[0m \u001b[32m━━━━━━━━━━━━━━━━━━━━\u001b[0m\u001b[37m\u001b[0m \u001b[1m117s\u001b[0m 319ms/step - accuracy: 0.6639 - loss: 1.1257 - val_accuracy: 0.6910 - val_loss: 1.1134\n",
      "Epoch 22/200\n",
      "\u001b[1m360/360\u001b[0m \u001b[32m━━━━━━━━━━━━━━━━━━━━\u001b[0m\u001b[37m\u001b[0m \u001b[1m116s\u001b[0m 315ms/step - accuracy: 0.6855 - loss: 1.0583 - val_accuracy: 0.7028 - val_loss: 1.0920\n",
      "Epoch 23/200\n",
      "\u001b[1m360/360\u001b[0m \u001b[32m━━━━━━━━━━━━━━━━━━━━\u001b[0m\u001b[37m\u001b[0m \u001b[1m117s\u001b[0m 319ms/step - accuracy: 0.6907 - loss: 1.0644 - val_accuracy: 0.6931 - val_loss: 1.1268\n",
      "Epoch 24/200\n",
      "\u001b[1m360/360\u001b[0m \u001b[32m━━━━━━━━━━━━━━━━━━━━\u001b[0m\u001b[37m\u001b[0m \u001b[1m117s\u001b[0m 318ms/step - accuracy: 0.7130 - loss: 0.9916 - val_accuracy: 0.7111 - val_loss: 1.0539\n",
      "Epoch 25/200\n",
      "\u001b[1m360/360\u001b[0m \u001b[32m━━━━━━━━━━━━━━━━━━━━\u001b[0m\u001b[37m\u001b[0m \u001b[1m118s\u001b[0m 320ms/step - accuracy: 0.7139 - loss: 0.9591 - val_accuracy: 0.6917 - val_loss: 1.0574\n",
      "Epoch 26/200\n",
      "\u001b[1m360/360\u001b[0m \u001b[32m━━━━━━━━━━━━━━━━━━━━\u001b[0m\u001b[37m\u001b[0m \u001b[1m117s\u001b[0m 318ms/step - accuracy: 0.7109 - loss: 0.9631 - val_accuracy: 0.6931 - val_loss: 1.1073\n",
      "Epoch 27/200\n",
      "\u001b[1m360/360\u001b[0m \u001b[32m━━━━━━━━━━━━━━━━━━━━\u001b[0m\u001b[37m\u001b[0m \u001b[1m117s\u001b[0m 319ms/step - accuracy: 0.7143 - loss: 0.9632 - val_accuracy: 0.7097 - val_loss: 1.0534\n",
      "Epoch 28/200\n",
      "\u001b[1m360/360\u001b[0m \u001b[32m━━━━━━━━━━━━━━━━━━━━\u001b[0m\u001b[37m\u001b[0m \u001b[1m116s\u001b[0m 315ms/step - accuracy: 0.7193 - loss: 0.9341 - val_accuracy: 0.6958 - val_loss: 1.1332\n",
      "Epoch 29/200\n",
      "\u001b[1m360/360\u001b[0m \u001b[32m━━━━━━━━━━━━━━━━━━━━\u001b[0m\u001b[37m\u001b[0m \u001b[1m117s\u001b[0m 318ms/step - accuracy: 0.7385 - loss: 0.8888 - val_accuracy: 0.7201 - val_loss: 1.0492\n",
      "Epoch 30/200\n",
      "\u001b[1m360/360\u001b[0m \u001b[32m━━━━━━━━━━━━━━━━━━━━\u001b[0m\u001b[37m\u001b[0m \u001b[1m116s\u001b[0m 317ms/step - accuracy: 0.7357 - loss: 0.8949 - val_accuracy: 0.7236 - val_loss: 1.1352\n",
      "Epoch 31/200\n",
      "\u001b[1m360/360\u001b[0m \u001b[32m━━━━━━━━━━━━━━━━━━━━\u001b[0m\u001b[37m\u001b[0m \u001b[1m116s\u001b[0m 317ms/step - accuracy: 0.7449 - loss: 0.8399 - val_accuracy: 0.7368 - val_loss: 1.0559\n",
      "Epoch 32/200\n",
      "\u001b[1m360/360\u001b[0m \u001b[32m━━━━━━━━━━━━━━━━━━━━\u001b[0m\u001b[37m\u001b[0m \u001b[1m117s\u001b[0m 318ms/step - accuracy: 0.7485 - loss: 0.8454 - val_accuracy: 0.7306 - val_loss: 1.1198\n",
      "Epoch 33/200\n",
      "\u001b[1m360/360\u001b[0m \u001b[32m━━━━━━━━━━━━━━━━━━━━\u001b[0m\u001b[37m\u001b[0m \u001b[1m117s\u001b[0m 317ms/step - accuracy: 0.7558 - loss: 0.8452 - val_accuracy: 0.7611 - val_loss: 0.9909\n",
      "Epoch 34/200\n",
      "\u001b[1m360/360\u001b[0m \u001b[32m━━━━━━━━━━━━━━━━━━━━\u001b[0m\u001b[37m\u001b[0m \u001b[1m116s\u001b[0m 317ms/step - accuracy: 0.7666 - loss: 0.8033 - val_accuracy: 0.7382 - val_loss: 1.0367\n",
      "Epoch 35/200\n",
      "\u001b[1m360/360\u001b[0m \u001b[32m━━━━━━━━━━━━━━━━━━━━\u001b[0m\u001b[37m\u001b[0m \u001b[1m118s\u001b[0m 321ms/step - accuracy: 0.7664 - loss: 0.7840 - val_accuracy: 0.7521 - val_loss: 0.9744\n",
      "Epoch 36/200\n",
      "\u001b[1m360/360\u001b[0m \u001b[32m━━━━━━━━━━━━━━━━━━━━\u001b[0m\u001b[37m\u001b[0m \u001b[1m116s\u001b[0m 317ms/step - accuracy: 0.7689 - loss: 0.7682 - val_accuracy: 0.7375 - val_loss: 0.9903\n",
      "Epoch 37/200\n",
      "\u001b[1m360/360\u001b[0m \u001b[32m━━━━━━━━━━━━━━━━━━━━\u001b[0m\u001b[37m\u001b[0m \u001b[1m117s\u001b[0m 320ms/step - accuracy: 0.7718 - loss: 0.7645 - val_accuracy: 0.7285 - val_loss: 1.0680\n",
      "Epoch 38/200\n",
      "\u001b[1m360/360\u001b[0m \u001b[32m━━━━━━━━━━━━━━━━━━━━\u001b[0m\u001b[37m\u001b[0m \u001b[1m117s\u001b[0m 318ms/step - accuracy: 0.7731 - loss: 0.7417 - val_accuracy: 0.7444 - val_loss: 0.9999\n",
      "Epoch 39/200\n",
      "\u001b[1m360/360\u001b[0m \u001b[32m━━━━━━━━━━━━━━━━━━━━\u001b[0m\u001b[37m\u001b[0m \u001b[1m116s\u001b[0m 317ms/step - accuracy: 0.7734 - loss: 0.7512 - val_accuracy: 0.7549 - val_loss: 0.9978\n",
      "Epoch 40/200\n",
      "\u001b[1m360/360\u001b[0m \u001b[32m━━━━━━━━━━━━━━━━━━━━\u001b[0m\u001b[37m\u001b[0m \u001b[1m117s\u001b[0m 319ms/step - accuracy: 0.7767 - loss: 0.7501 - val_accuracy: 0.7604 - val_loss: 0.9366\n",
      "Epoch 41/200\n",
      "\u001b[1m360/360\u001b[0m \u001b[32m━━━━━━━━━━━━━━━━━━━━\u001b[0m\u001b[37m\u001b[0m \u001b[1m117s\u001b[0m 319ms/step - accuracy: 0.7908 - loss: 0.7119 - val_accuracy: 0.7514 - val_loss: 1.0135\n",
      "Epoch 42/200\n",
      "\u001b[1m360/360\u001b[0m \u001b[32m━━━━━━━━━━━━━━━━━━━━\u001b[0m\u001b[37m\u001b[0m \u001b[1m117s\u001b[0m 318ms/step - accuracy: 0.7888 - loss: 0.7041 - val_accuracy: 0.7472 - val_loss: 0.9576\n",
      "Epoch 43/200\n",
      "\u001b[1m360/360\u001b[0m \u001b[32m━━━━━━━━━━━━━━━━━━━━\u001b[0m\u001b[37m\u001b[0m \u001b[1m117s\u001b[0m 318ms/step - accuracy: 0.7820 - loss: 0.7309 - val_accuracy: 0.7563 - val_loss: 1.0012\n"
     ]
    }
   ],
   "source": [
    "history = model.fit(train_set, epochs=200, callbacks=[callback_stop, early_stopping], validation_data=validation_set)"
   ]
  },
  {
   "cell_type": "markdown",
   "id": "eaaa5d3c-8fed-4adc-924c-d3afc50ec897",
   "metadata": {},
   "source": [
    "## Saving"
   ]
  },
  {
   "cell_type": "code",
   "execution_count": 14,
   "id": "330dbfa2",
   "metadata": {
    "execution": {
     "iopub.execute_input": "2025-04-12T14:04:15.395704Z",
     "iopub.status.busy": "2025-04-12T14:04:15.395419Z",
     "iopub.status.idle": "2025-04-12T14:04:15.763510Z",
     "shell.execute_reply": "2025-04-12T14:04:15.762927Z"
    },
    "papermill": {
     "duration": 1.100271,
     "end_time": "2025-04-12T14:04:15.764885",
     "exception": false,
     "start_time": "2025-04-12T14:04:14.664614",
     "status": "completed"
    },
    "tags": []
   },
   "outputs": [],
   "source": [
    "model.save('model.keras')\n",
    "model.save('model.h5')"
   ]
  },
  {
   "cell_type": "code",
   "execution_count": 15,
   "id": "556146bb-5a80-4114-bb20-085de245a392",
   "metadata": {},
   "outputs": [],
   "source": [
    "with open('history.pkl', 'wb') as file:\n",
    "    pickle.dump(history.history, file)"
   ]
  },
  {
   "cell_type": "markdown",
   "id": "767d6b0e-460a-409f-ab24-8d3f137c49a3",
   "metadata": {},
   "source": [
    "## Visualize"
   ]
  },
  {
   "cell_type": "code",
   "execution_count": 16,
   "id": "7c330c92-87a3-49a5-ba94-fb91baa510bf",
   "metadata": {},
   "outputs": [],
   "source": [
    "def visualize(name):\n",
    "    plt.figure(figsize=[15, 5])\n",
    "    plt.plot(history[name], label='train', marker='o')\n",
    "    plt.plot(history[f'val_{name}'], label='val', marker='o')\n",
    "\n",
    "    plt.title(name)\n",
    "    plt.xlabel('epoch')\n",
    "    plt.ylabel(name)\n",
    "\n",
    "    plt.grid()\n",
    "    plt.legend()\n",
    "    plt.show()"
   ]
  },
  {
   "cell_type": "code",
   "execution_count": 17,
   "id": "69f2d212-e4c2-4bd6-b0c1-96a539d8dbc0",
   "metadata": {},
   "outputs": [
    {
     "data": {
      "image/png": "[encoded data removed]",
      "text/plain": [
       "<Figure size 1500x500 with 1 Axes>"
      ]
     },
     "metadata": {},
     "output_type": "display_data"
    }
   ],
   "source": [
    "visualize('accuracy')"
   ]
  },
  {
   "cell_type": "code",
   "execution_count": 18,
   "id": "d98b6c8d-2249-4fc3-938c-b88d9d95f22c",
   "metadata": {},
   "outputs": [
    {
     "data": {
      "image/png": "[encoded data removed]",
      "text/plain": [
       "<Figure size 1500x500 with 1 Axes>"
      ]
     },
     "metadata": {},
     "output_type": "display_data"
    }
   ],
   "source": [
    "visualize('loss')"
   ]
  }
 ],
 "metadata": {
  "accelerator": "GPU",
  "colab": {
   "authorship_tag": "ABX9TyNztqXpGw8fXJwC6KJFQwdh",
   "collapsed_sections": [
    "LBz6I4U65wEn"
   ],
   "gpuType": "T4",
   "provenance": []
  },
  "kaggle": {
   "accelerator": "gpu",
   "dataSources": [],
   "dockerImageVersionId": 31012,
   "isGpuEnabled": true,
   "isInternetEnabled": true,
   "language": "python",
   "sourceType": "notebook"
  },
  "kernelspec": {
   "display_name": "Python 3 (ipykernel)",
   "language": "python",
   "name": "python3"
  },
  "language_info": {
   "codemirror_mode": {
    "name": "ipython",
    "version": 3
   },
   "file_extension": ".py",
   "mimetype": "text/x-python",
   "name": "python",
   "nbconvert_exporter": "python",
   "pygments_lexer": "ipython3",
   "version": "3.12.5"
  },
  "papermill": {
   "default_parameters": {},
   "duration": 5091.236136,
   "end_time": "2025-04-12T14:04:21.781374",
   "environment_variables": {},
   "exception": null,
   "input_path": "__notebook__.ipynb",
   "output_path": "__notebook__.ipynb",
   "parameters": {},
   "start_time": "2025-04-12T12:39:30.545238",
   "version": "2.6.0"
  }
 },
 "nbformat": 4,
 "nbformat_minor": 5
}
